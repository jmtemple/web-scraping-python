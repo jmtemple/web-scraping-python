{
 "cells": [
  {
   "cell_type": "markdown",
   "id": "675b6d29",
   "metadata": {},
   "source": [
    "# Web Scraping in Python\n",
    "\n",
    "<a href=\"http://creativecommons.org/licenses/by-nc/4.0/\" rel=\"license\"><img style=\"border-width: 0;\" src=\"https://i.creativecommons.org/l/by-nc/4.0/88x31.png\" alt=\"Creative Commons License\" /></a>\n",
    "This tutorial is licensed under a <a href=\"http://creativecommons.org/licenses/by-nc/4.0/\" rel=\"license\">Creative Commons Attribution-NonCommercial 4.0 International License</a>.\n",
    "\n",
    "## Lab Overview\n",
    "\n",
    "This lab provides an introduction and overview to parsing HTML in Python using `beautifulsoup` and `pandas`.\n",
    "\n",
    "## Acknowledgements\n",
    "\n",
    "The author consulted the following materials when building this lab:\n",
    "- Lisa Tagliaferri, \"How to Scrape Web Pages With Beautiful Soup and Python 3\" *Digital Ocean* (20 March 2019). https://www.digitalocean.com/community/tutorials/how-to-scrape-web-pages-with-beautiful-soup-and-python-3\n",
    "- Jeri Wieringa, \"Intro to Beautiful Soup,\" *The Programming Historian* 1 (2012), https://doi.org/10.46430/phen0008.\n",
    "- Martin Breuss, \"Beautiful Soup: Build a Web Scraper With Python\" *Real Python*. https://realpython.com/beautiful-soup-web-scraper-python/\n",
    "- DataQuest, \"Tutorial: Web Scraping With Python Using Beautiful Soup\" *DataQuest* (2 September 2020). https://www.dataquest.io/blog/web-scraping-tutorial-python/\n",
    "\n",
    "The introductory sections of this lab are based on and adapted from:\n",
    "- Lisa Tagliaferri, \"How to Scrape Web Pages With Beautiful Soup and Python 3\" *Digital Ocean* (20 March 2019). https://www.digitalocean.com/community/tutorials/how-to-scrape-web-pages-with-beautiful-soup-and-python-3\n",
    "\n",
    "# Table of Contents\n",
    "\n",
    "- [Introduction to Beautiful Soup](#introduction-to-beautiful-soup)\n",
    "- [Installing Beautiful Soup](#installing-beautiful-soup)\n",
    "- [Loading URLs in Python](#loading-urls-in-python)\n",
    "- [Creating a Beautiful Soup Object](#creating-a-beautiful-soup-object)\n",
    "- [HTML Refresh](#html-refresh)\n",
    "- [File Methods Refresh](#file-methods-refresh)\n",
    "- [Using BeautifulSoup with a Single Web Page](#using-beautifulsoup-with-a-single-web-page)\n",
    "  * [Sample For Loops](#sample-for-loops) \n",
    "- [Working With Multiple Pages](#working-with-multiple-pages)\n",
    "- [An Alternate Approach: `pandas.read_html()`](#an-alternate-approach-pandasread_html)\n",
    "- [Web Scraping and Unstructured Text](#web-scraping-and-unstructured-text)\n",
    "  * [Oh, the Places You Could Go](#oh-the-places-you-could-go) \n",
    "- [Why did we do this?](#why-did-we-do-this)\n",
    "- [Lab Notebook Questions](#lab-notebook-questions)\n",
    "- [Final Project Next Steps](#final-project-next-steps)\n",
    "\n",
    "# Introduction to Beautiful Soup\n",
    "\n",
    "1. What is Beautiful Soup? \n",
    "\n",
    "2. \"Beautiful Soup is a Python library for pulling data out of HTML and XML files. It works with your favorite parser to provide idiomatic ways of navigating, searching, and modifying the parse tree. It commonly saves programmers hours or days of work\" ([Beautiful Soup Documentation](https://www.crummy.com/software/BeautifulSoup/bs4/doc/))\n",
    "\n",
    "3. The library name is an allusion to the song Lewis Carroll character the Mock Turtle sings in Chapter 10 of *Alice's Adventures in Wonderland*.\n",
    "\n",
    "4. `Beautiful Soup` uses the structure of markup language documents (i.e. HTML, XML, etc) to extract information we can work with in a Python programming environment.\n",
    "\n",
    "5. In this lab, we will be focusing on using `Beautiful Soup` to parse and scrape web pages built using HTML and CSS.\n",
    "\n",
    "# Installing Beautiful Soup\n",
    "\n",
    "6. We can install `Beautiful Soup` at the command line using a terminal or shell in our Python environment.\n",
    "\n",
    "7. To install `Beautiful Soup` using `pip`:"
   ]
  },
  {
   "cell_type": "raw",
   "id": "a9f4f7a3",
   "metadata": {},
   "source": [
    "pip install beautifulsoup4"
   ]
  },
  {
   "cell_type": "markdown",
   "id": "3d04b0b5",
   "metadata": {},
   "source": [
    "8. For more on installing modules using `pip`: Fred Gibbs, \"Installing Python Modules with pip,\" The Programming Historian 2 (2013), https://doi.org/10.46430/phen0029.\n",
    "\n",
    "9. We also can install the `lxml` library to help with parsing HTML.\n",
    "\n",
    "10. To install `lxml` using `pip`:"
   ]
  },
  {
   "cell_type": "raw",
   "id": "6fc4957e",
   "metadata": {},
   "source": [
    "pip install lxml"
   ]
  },
  {
   "cell_type": "markdown",
   "id": "393d095f",
   "metadata": {},
   "source": [
    "# Loading URLs in Python\n",
    "\n",
    "11. We will be using the `requests` library to load URLs in Python.\n",
    "\n",
    "12. This library is already built into Python and does not require additional installation.\n",
    "\n",
    "13. Core syntax for using the `requests` library to load a URL:"
   ]
  },
  {
   "cell_type": "raw",
   "id": "d54a83cf",
   "metadata": {},
   "source": [
    "# import requests\n",
    "import requests\n",
    "\n",
    "# load url using get requests.get() method\n",
    "page = requests.get('URL GOES HERE')"
   ]
  },
  {
   "cell_type": "markdown",
   "id": "2a8930aa",
   "metadata": {},
   "source": [
    "# Creating a Beautiful Soup Object\n",
    "\n",
    "14. Once we have a URL loaded in Python, we want to be able to use `BeautifulSoup` to parse the web page's HTML components.\n",
    "\n",
    "15. We can do that by creating a BeautifulSoup object.\n",
    "\n",
    "16. Core syntax:"
   ]
  },
  {
   "cell_type": "code",
   "execution_count": null,
   "id": "86b97e1a",
   "metadata": {},
   "outputs": [],
   "source": [
    "# import beautifulsoup\n",
    "from bs4 import BeautifulSoup\n",
    "\n",
    "# create beautifulsoup object\n",
    "soup = BeautifulSoup(page.text, 'html.parser')"
   ]
  },
  {
   "cell_type": "markdown",
   "id": "7cf1f743",
   "metadata": {},
   "source": [
    "17. Putting that all together, the core syntax for loading a URL and creating a BeautifulSoup object:"
   ]
  },
  {
   "cell_type": "code",
   "execution_count": null,
   "id": "82c66045",
   "metadata": {},
   "outputs": [],
   "source": [
    "# import requests\n",
    "import requests\n",
    "\n",
    "# import beautifulsoup\n",
    "from bs4 import BeautifulSoup\n",
    "\n",
    "# load url using get requests.get() method\n",
    "page = requests.get('URL GOES HERE')\n",
    "\n",
    "# create beautiful soup object\n",
    "soup = BeautifulSoup(page.text, 'html.parser')"
   ]
  },
  {
   "cell_type": "markdown",
   "id": "ac84c74d",
   "metadata": {},
   "source": [
    "18. Now, we are ready to parse the web page's HTML using `BeautifulSoup`."
   ]
  },
  {
   "cell_type": "markdown",
   "id": "c60dbdc2",
   "metadata": {},
   "source": [
    "# HTML  Refresh\n",
    "\n",
    "19. HTML uses a few core tags for web pages that include tables.\n",
    "- `table` (marks the start and end of a table\n",
    "- `tbody` (marks the start and end of the table body)\n",
    "- `tr` (marks the start and end of each table row)\n",
    "- `th` (marks the start and end of each column in the first row of the table)\n",
    "- `td` (marks the start and end of each column after the first row of the table)\n",
    "\n",
    "20. How we might see those tags combined in a table structure:\n",
    "\n",
    "```HTML\n",
    "<table>\n",
    " <tr>\n",
    "  <th>First Column Header</th>\n",
    "  <th>Second Column Header</th>\n",
    "  <th>Third Column Header</th>\n",
    " </tr>\n",
    " <tr>\n",
    "  <td>Data in first column/first row</td>\n",
    "  <td>Data in second column/first row</td>\n",
    "  <td>Data in third column/first row</td>\n",
    " </tr>\n",
    " <tr>\n",
    "  <td>Data in first column/second row</td>\n",
    "  <td>Data in second column/second row</td>\n",
    "  <td>Data in third column/second row</td>\n",
    " </tr>\n",
    "</table>\n",
    "```\n",
    "\n",
    "21. The output of that HTML would look like:\n",
    "\n",
    "<table>\n",
    " <tr>\n",
    "  <th>First Column Header</th>\n",
    "  <th>Second Column Header</th>\n",
    "  <th>Third Column Header</th>\n",
    " </tr>\n",
    " <tr>\n",
    "  <td>Data in first column/first row</td>\n",
    "  <td>Data in second column/first row</td>\n",
    "  <td>Data in third column/first row</td>\n",
    " </tr>\n",
    " <tr>\n",
    "  <td>Data in first column/second row</td>\n",
    "  <td>Data in second column/second row</td>\n",
    "  <td>Data in third column/second row</td>\n",
    " </tr>\n",
    "</table>\n",
    "\n",
    "22. Additional attributes like `align`, `style`, etc. can be used with many of these tags.\n",
    "\n",
    "Some other tags that we might encounter when trying to parse HTML using `BeautifulSoup`:\n",
    "\n",
    "<table>\n",
    "    <tr>\n",
    "        <td>Name</td>\n",
    "        <td>Syntax</td>\n",
    "        <td>Description</td>\n",
    "    </tr>\n",
    "    <tr>\n",
    "        <td>Heading</td>\n",
    "        <td><code>h1, h2, h3, etc</code></td>\n",
    "            <td>HTML headings</td>\n",
    "            </tr>\n",
    "            <tr>\n",
    "                <td>Division</td>\n",
    "                <td><code>div</code></td>\n",
    "                <td>Defines sections or divisions in an HTML document</td>\n",
    "            </tr>\n",
    "            <tr>\n",
    "                <td>Paragraph</td>\n",
    "                <td><code>p</code></td>\n",
    "                <td>Defines paragraphs in an HTML document</td>\n",
    "            </tr>\n",
    "            <tr>\n",
    "                <td>Span</td>\n",
    "                <td><code>span</code></td>\n",
    "                <td>Defines a section in an HTML document</td>\n",
    "            </tr>\n",
    "            <tr>\n",
    "                <td>Unordered list</td>\n",
    "                <td><code>ul</code></td>\n",
    "                <td>Defines the start of an unordered list (followed by <code>li</code> tags)</td>\n",
    "            </tr>\n",
    "            <tr>\n",
    "                <td>Hyperlink</td>\n",
    "                <td><code>a</code></td>\n",
    "                    <td>Defines a hyperlink in an HTML document (followed by <code>href = \"URL\"</code>)</td>\n",
    "            </tr>\n",
    "            </table>\n",
    "\n",
    "\n",
    "For more detail on HTML and CSS:\n",
    "- [W3Schools HTML Tutorial](https://www.w3schools.com/html)\n",
    "- [W3Schools CSS Tutorial](https://www.w3schools.com/css)\n",
    "- [EoC HTML/CSS Lab](https://github.com/kwaldenphd/HTML-CSS/tree/EoC1-F20)\n",
    "            \n",
    "When using `BeautifulSoup`, we can isolate information on the webpage through interacting with the HTML syntax."
   ]
  },
  {
   "cell_type": "markdown",
   "id": "8f9ad2a5",
   "metadata": {},
   "source": [
    "# File Methods Refresh\n",
    "\n",
    "26. As part of our work in this lab, we'll be saving the content we have scraped from a web page to a plain-text file (either `.txt` or `.csv`).\n",
    "\n",
    "27. A quick review of how Python handles creating, reading, and writing files, specifically focusing on...\n",
    "- `open()`\n",
    "- `write()`\n",
    "\n",
    "## `open()`\n",
    "\n",
    "28. The `open()` function lets us open an existing file or create a new file in Python.\n",
    "\n",
    "29. For either version of `open()` (new file or existing file), we need to specify the file name (with the file type extension) and access mode.\n",
    "\n",
    "30. Core syntax for opening an existing file:"
   ]
  },
  {
   "cell_type": "raw",
   "id": "35c19776",
   "metadata": {},
   "source": [
    "open(file_name.extension, access_mode)"
   ]
  },
  {
   "cell_type": "markdown",
   "id": "d811ccb1",
   "metadata": {},
   "source": [
    "39. The file type extension is the string of characters that follows the period after the file name.\n",
    "\n",
    "40. Examples include `.py`, `.csv`, `.txt`, etc.\n",
    "\n",
    "41. The types of file handling functions we are covering in this lab will generally only support reading and writing plain-text (or machine-readable) files.\n",
    "\n",
    "## Access Modes\n",
    "\n",
    "42. The access mode parameter specifies the types of modifications that can be made to the file. It can also specify the type of data or information contained in the file.\n",
    "\n",
    "43. Possible access mode parameters:\n",
    "\n",
    "<table>\n",
    " <tr>\n",
    "  <th>Parameter</th>\n",
    "  <th>Name</th>\n",
    "  <th>Description</th>\n",
    " </tr>\n",
    " <tr>\n",
    "  <td><code>\"r\"</code></td>\n",
    "  <td>Read</td>\n",
    "  <td>Opens a file for reading; also the default value</td>\n",
    " </tr>\n",
    " <tr>\n",
    "  <td><code>\"a\"</code></td>\n",
    "  <td>Append</td>\n",
    "  <td>Opens the file for appending new or additional information; Creates the file if it does not already exist</td>\n",
    " </tr>\n",
    " <tr>\n",
    "  <td><code>\"w\"</code></td>\n",
    "  <td>Write</td>\n",
    "  <td>Opens the file for writing new information; Creates the file if it does not already exist</td>\n",
    " </tr>\n",
    " <tr>\n",
    "  <td><code>\"x\"</code></td>\n",
    "  <td>Create</td>\n",
    "  <td>Creates the file if it does not already exist</td>\n",
    " </tr>\n",
    " </table>\n",
    "\n",
    "44. Additionally, we can specify the type of data contained in the file, or how Python should handle the information in the file.\n",
    "\n",
    "<table>\n",
    " <tr>\n",
    "  <th>Parameter</th>\n",
    "  <th>Name</th>\n",
    "  <th>Description</th>\n",
    " </tr>\n",
    " <tr>\n",
    "  <td><code>\"t\"</code></td>\n",
    "  <td>Text</td>\n",
    "  <td>Treats file as text data; also the default value</td>\n",
    " </tr>\n",
    " <tr>\n",
    "  <td><code>\"b\"</code></td>\n",
    "  <td>Binary</td>\n",
    "  <td>Treats the file as binary data</td>\n",
    " </tr>\n",
    " </table>\n",
    " \n",
    " ### `open()` examples"
   ]
  },
  {
   "cell_type": "code",
   "execution_count": null,
   "id": "2247c305",
   "metadata": {},
   "outputs": [],
   "source": [
    " # opens an existing text (TXT) file with overwrite permission\n",
    " f = open(\"existing_file.txt\", \"w\")"
   ]
  },
  {
   "cell_type": "code",
   "execution_count": null,
   "id": "87372043",
   "metadata": {},
   "outputs": [],
   "source": [
    " # opens an existing CSV file and reads the content\n",
    " f = open(\"existing_file.csv\", \"r\")"
   ]
  },
  {
   "cell_type": "code",
   "execution_count": null,
   "id": "c94167b0",
   "metadata": {},
   "outputs": [],
   "source": [
    " # creates new txt file with write permission\n",
    " f = open(\"new_file.txt\", \"w\")"
   ]
  },
  {
   "cell_type": "code",
   "execution_count": null,
   "id": "fa35a326",
   "metadata": {},
   "outputs": [],
   "source": [
    " # creates new CSV file without write privileges\n",
    " f = open(\"new_file.csv\", \"x\")"
   ]
  },
  {
   "cell_type": "markdown",
   "id": "010db476",
   "metadata": {},
   "source": [
    "37. If you run these examples, you will see a newly-created file appear in your environment or project workspace. \n",
    "\n",
    "## `write()`\n",
    "\n",
    "38. Now that we have a newly-created file in Python, we can use the `write()` function to ***write*** content to that file.\n",
    "\n",
    "39. Let's say we want to create a `.txt` (plain text) file and write a string to that file.\n",
    "\n",
    "40. We can do that using `write()`.\n",
    "\n",
    "41. An example:"
   ]
  },
  {
   "cell_type": "code",
   "execution_count": null,
   "id": "f36c6b04",
   "metadata": {},
   "outputs": [],
   "source": [
    "# creates new txt file with write permission\n",
    "f = open(\"new_file.txt\", \"w\")\n",
    "\n",
    "# writes string to new file\n",
    "f.write(\"Hello world!\")\n",
    "\n",
    "# closes file\n",
    "f.close()"
   ]
  },
  {
   "cell_type": "markdown",
   "id": "ce0d5658",
   "metadata": {},
   "source": [
    "42. Another example where we have assigned a string to a variable and write the variable to the `.txt` file:"
   ]
  },
  {
   "cell_type": "code",
   "execution_count": null,
   "id": "63f7dfb6",
   "metadata": {},
   "outputs": [],
   "source": [
    "# creates new txt file with write permission\n",
    "f = open(\"new_file.txt\", \"w\")\n",
    "\n",
    "# assigns string to variable\n",
    "hello_world = \"Hello world!\"\n",
    "\n",
    "# writes string variable to new file\n",
    "f.write(hello_world)\n",
    "\n",
    "# closes file\n",
    "f.close()"
   ]
  },
  {
   "cell_type": "markdown",
   "id": "d534871a",
   "metadata": {},
   "source": [
    "43. Open the `new_file.txt` file to see the newly-added content.\n",
    "\n",
    "44. For more on file handling methods in Python:\n",
    "- [Python File Handling, W3Schools](https://www.w3schools.com/python/python_file_handling.asp)\n",
    "- [Python File Write, W3Schools](https://www.w3schools.com/python/python_file_write.asp)\n",
    "- [Python open() Function](https://www.w3schools.com/python/ref_func_open.asp)\n",
    "\n",
    "## `open()`, `write()`, and `CSV` files\n",
    "\n",
    "45. Later in this lab, we will scrape data from the web and write that to a `CSV` file.\n",
    "- `CSV` stands for comma-separated values.\n",
    "- `CSV` files are the plain-text, machine-readable file type for tabular data (table data, or data in a spreadsheet structure)\n",
    "\n",
    "46. A reminder that a table that looks like this in a spreadsheet program like Excel or Google Sheets:\n",
    "<table>\n",
    " <tr>\n",
    "  <th>Parameter</th>\n",
    "  <th>Name</th>\n",
    "  <th>Description</th>\n",
    " </tr>\n",
    " <tr>\n",
    "  <td><code>\"t\"</code></td>\n",
    "  <td>Text</td>\n",
    "  <td>Treats file as text data; also the default value</td>\n",
    " </tr>\n",
    " <tr>\n",
    "  <td><code>\"b\"</code></td>\n",
    "  <td>Binary</td>\n",
    "  <td>Treats the file as binary data</td>\n",
    " </tr>\n",
    " </table>\n",
    "\n",
    "47. Would look like this as a CSV:\n",
    "\n",
    "```CSV\n",
    "Parameter, Name, Description\n",
    "\"t\", Text, Treats file as text data; also the default value\n",
    "\"b\", Binary, Treats the file as binary data\n",
    "```\n",
    "\n",
    "48. So when writing data to a `CSV` file, we need Python to understand the row structure and comma-separated syntax for the file type.\n",
    "\n",
    "49. Specifically, we need Python to understand we are writing individual rows of data to the file, and we need Python to understand that those rows consist of columns of data separated by columns.\n",
    "\n",
    "50. We can create a file using the `open()` function covered in a previous section of the lab."
   ]
  },
  {
   "cell_type": "code",
   "execution_count": null,
   "id": "f234cf09",
   "metadata": {},
   "outputs": [],
   "source": [
    " # create new CSV file with write privileges\n",
    " f = open(\"new_file.csv\", \"w\")"
   ]
  },
  {
   "cell_type": "markdown",
   "id": "58018eb6",
   "metadata": {},
   "source": [
    "51. The next step is to create the `writer` object using the `csv.writer()` function."
   ]
  },
  {
   "cell_type": "code",
   "execution_count": null,
   "id": "cde710fb",
   "metadata": {},
   "outputs": [],
   "source": [
    "# create writer object\n",
    "outputWriter = csv.writer(f)"
   ]
  },
  {
   "cell_type": "markdown",
   "id": "026fcb57",
   "metadata": {},
   "source": [
    "52. Next, we can use the `.writerow()` method to write individual lists as rows in our `CSV` file."
   ]
  },
  {
   "cell_type": "code",
   "execution_count": null,
   "id": "489b2190",
   "metadata": {},
   "outputs": [],
   "source": [
    "# write first row\n",
    "outputWriter.writerow(['Parameter', 'Name', 'Description')]\n",
    "\n",
    "# write second row\n",
    "outputWriter.writerow(['t', 'Text', 'Treats file as text data; also the default value'])\n",
    "\n",
    "# write third row\n",
    "outputWriter.writerow(['b', 'Binary', 'Treats the file as binary data')]"
   ]
  },
  {
   "cell_type": "markdown",
   "id": "8bab1c13",
   "metadata": {},
   "source": [
    "53. Putting that all together:"
   ]
  },
  {
   "cell_type": "code",
   "execution_count": null,
   "id": "627e5cad",
   "metadata": {},
   "outputs": [],
   "source": [
    "# create new CSV file with write privileges\n",
    "f = open(\"new_file.csv\", \"w\")\n",
    " \n",
    "# create writer object\n",
    "outputWriter = csv.writer(f)\n",
    "\n",
    "# write first row\n",
    "outputWriter.writerow(['Parameter', 'Name', 'Description')]\n",
    "\n",
    "# write second row\n",
    "outputWriter.writerow(['t', 'Text', 'Treats file as text data; also the default value'])\n",
    "\n",
    "# write third row\n",
    "outputWriter.writerow(['b', 'Binary', 'Treats the file as binary data')]\n",
    "\n",
    "# close file\n",
    "f.close()"
   ]
  },
  {
   "cell_type": "markdown",
   "id": "70014ea5",
   "metadata": {},
   "source": [
    "78. Check out `new_file.csv` to see the newly-created file with rows of data."
   ]
  },
  {
   "cell_type": "markdown",
   "id": "cc10a1a7",
   "metadata": {},
   "source": [
    "54. Check out `new_file.csv` to see the newly-created file with rows of data.\n",
    "\n",
    "# Using BeautifulSoup With a Single Web Page\n",
    "\n",
    "55. Now, we're going to see HTML syntax and file methods at work to develop a web scraping program that takes tabular data on a web page and writes it to a `CSV` file.\n",
    "\n",
    "56. Head to https://en.wikipedia.org/wiki/All-time_Olympic_Games_medal_table in a web browser.\n",
    "\n",
    "57. There are a nubmer of tables on this page, but we're going to focus on the `Unranked medal table (sortable)` section of the page.\n",
    "\n",
    "<p align=\"center\"><a href=\"https://github.com/kwaldenphd/web-scraping-python/blob/main/images/fig1.jpg?raw=true\"><img class=\"aligncenter\" src=\"https://github.com/kwaldenphd/web-scraping-python/blob/main/images/fig1.jpg?raw=true\" /></a></p>\n",
    "\n",
    "58. Take a look at this table on the public web page, thinking about the rows, columns, and data values we might want to map onto a tabular (table, spreadsheet) data structure.\n",
    "\n",
    "<p align=\"center\"><a href=\"https://github.com/kwaldenphd/web-scraping-python/blob/main/images/fig2.jpg?raw=true\"><img class=\"aligncenter\" src=\"https://github.com/kwaldenphd/web-scraping-python/blob/main/images/fig2.jpg?raw=true\" /></a></p>\n",
    "\n",
    "59. Then, right click on the page (`Control-click` on a Mac) and select the `View Page Source` option.\n",
    "- The specific label for this option may differ across browsers and operating systems.\n",
    "\n",
    "<p align=\"center\"><a href=\"https://github.com/kwaldenphd/web-scraping-python/blob/main/images/fig3.jpg?raw=true\"><img class=\"aligncenter\" src=\"https://github.com/kwaldenphd/web-scraping-python/blob/main/images/fig3.jpg?raw=true\" /></a></p>\n",
    "\n",
    "60. There's a lot going on here- we're looking at the back-end HTML for the Wikipedia page with the table we want to work with.\n",
    "\n",
    "61. But we want to figure out what HTML elements are adjacent to the section of the page we want to isolate.\n",
    "\n",
    "62. Scrolling through the HTML until you see things that look promising is one place to start.\n",
    "\n",
    "63. You can also type `Control-F` (`Command-F` on a Mac) to search for particular words/phrases in the HTML.\n",
    "\n",
    "64. We know one of the country names in the table is `Afghanistan`, so let's search the HTML to see where that term appears.\n",
    "\n",
    "```HTML\n",
    "<th style=\"width:2em;\">\n",
    "<p><span title=\"Combined total number of all Medals won by each country\" class=\"rt-commentedText\" style=\"border-bottom:1px dotted\">Total</span>\n",
    "</p>\n",
    "</th></tr>\n",
    "<tr>\n",
    "<td align=\"left\"><span id=\"AFG\"><img alt=\"\" src=\"//upload.wikimedia.org/wikipedia/commons/thumb/c/cd/Flag_of_Afghanistan_%282013%E2%80%932021%29.svg/22px-Flag_of_Afghanistan_%282013%E2%80%932021%29.svg.png\" decoding=\"async\" width=\"22\" height=\"15\" class=\"thumbborder\" srcset=\"//upload.wikimedia.org/wikipedia/commons/thumb/c/cd/Flag_of_Afghanistan_%282013%E2%80%932021%29.svg/33px-Flag_of_Afghanistan_%282013%E2%80%932021%29.svg.png 1.5x, //upload.wikimedia.org/wikipedia/commons/thumb/c/cd/Flag_of_Afghanistan_%282013%E2%80%932021%29.svg/44px-Flag_of_Afghanistan_%282013%E2%80%932021%29.svg.png 2x\" data-file-width=\"900\" data-file-height=\"600\" />&#160;<a href=\"/wiki/Afghanistan_at_the_Olympics\" title=\"Afghanistan at the Olympics\">Afghanistan</a>&#160;<span style=\"font-size:90%;\">(AFG)</span></span>\n",
    "</td>\n",
    "<td style=\"background:#f2f2ce;\">15</td>\n",
    "<td style=\"background:#f2f2ce;\">0</td>\n",
    "<td style=\"background:#f2f2ce;\">0</td>\n",
    "<td style=\"background:#f2f2ce;\">2</td>\n",
    "<td style=\"background:#f2f2ce;\">2\n",
    "</td>\n",
    "<td style=\"background:#cedff2;\">0</td>\n",
    "<td style=\"background:#cedff2;\">0</td>\n",
    "<td style=\"background:#cedff2;\">0</td>\n",
    "<td style=\"background:#cedff2;\">0</td>\n",
    "<td style=\"background:#cedff2;\">0\n",
    "</td>\n",
    "<td>15</td>\n",
    "<td>0</td>\n",
    "<td>0</td>\n",
    "<td>2</td>\n",
    "<td>2\n",
    "</td></tr>\n",
    "<tr>\n",
    "```\n",
    "\n",
    "65. Again, there's still a lot going on, but we can see the table row `<tr>` tag around a section of HTML that includes multiple `<td>` tags with information about the country name (`Afghanistan`) and number values that correspond to the medal counts from that row in the table.\n",
    "\n",
    "66. Now, we need to figure out where this table \"starts,\" or what HTML elements mark the beginning/end of the table.\n",
    "\n",
    "67. If we scroll up from the `Afghanistan` search results, we can see the section of HTML that marks the start of this table.\n",
    "\n",
    "```HTML\n",
    "<h2><span id=\"Unranked_medal_table_.28sortable.29\"></span><span class=\"mw-headline\" id=\"Unranked_medal_table_(sortable)\">Unranked medal table (sortable)</span><span class=\"mw-editsection\"><span class=\"mw-editsection-bracket\">[</span><a href=\"/w/index.php?title=All-time_Olympic_Games_medal_table&amp;action=edit&amp;section=1\" title=\"Edit section: Unranked medal table (sortable)\">edit</a><span class=\"mw-editsection-bracket\">]</span></span></h2>\n",
    "<p>The table is pre-sorted by the name of each Olympic Committee, but can be displayed as sorted by any other column, such as the total number of <a href=\"/wiki/Gold_medal\" title=\"Gold medal\">gold medals</a> or total number of overall medals. To sort by gold, silver, and then bronze, sort first by the bronze column, then the silver, and then the gold. The table does not include revoked medals (e.g., due to <a href=\"/wiki/Doping_in_sport\" title=\"Doping in sport\">doping</a>).\n",
    "</p><p>Medal totals in this table are current through the <a href=\"/wiki/2020_Summer_Olympics\" title=\"2020 Summer Olympics\">2020 Summer Olympics</a> in <a href=\"/wiki/Tokyo\" title=\"Tokyo\">Tokyo</a>, Japan, and all <a href=\"/wiki/List_of_stripped_Olympic_medals\" title=\"List of stripped Olympic medals\">changes in medal standings</a> due to doping cases and medal redistributions up to 8 August 2021 are taken into account.\n",
    "</p>\n",
    "<style data-mw-deduplicate=\"TemplateStyles:r981673959\">.mw-parser-output .legend{page-break-inside:avoid;break-inside:avoid-column}.mw-parser-output .legend-color{display:inline-block;min-width:1.25em;height:1.25em;line-height:1.25;margin:1px 0;text-align:center;border:1px solid black;background-color:transparent;color:black}.mw-parser-output .legend-text{}</style><div class=\"legend\"><span class=\"legend-color\" style=\"background-color:lightblue; color:black;\">&#160;</span>&#160;Special delegation, not an actual nation</div> \n",
    "<table class=\"wikitable sortable\" style=\"margin-top:0; text-align:center; font-size:90%;\">\n",
    "\n",
    "<tbody><tr>\n",
    "<th>Team\n",
    "</th>\n",
    "<th align=\"center\" style=\"background-color:#f2f2ce;\" colspan=\"5\"><a href=\"/wiki/Summer_Olympic_Games\" title=\"Summer Olympic Games\">Summer Olympic Games</a>\n",
    "</th>\n",
    "<th align=\"center\" style=\"background-color:#cedff2;\" colspan=\"5\"><a href=\"/wiki/Winter_Olympic_Games\" title=\"Winter Olympic Games\">Winter Olympic Games</a>\n",
    "</th>\n",
    "<th align=\"center\" colspan=\"5\"><a href=\"/wiki/Olympic_Games\" title=\"Olympic Games\">Combined total</a>\n",
    "</th></tr>\n",
    "<tr>\n",
    "<th><span title=\"International Olympic Committee country code\" class=\"rt-commentedText\" style=\"border-bottom:1px dotted\">Team (IOC&#160;code)</span>\n",
    "</th>\n",
    "```\n",
    "\n",
    "68. Since we're looking for a table, identifying a `<table>` tag is a good place to start.\n",
    "\n",
    "69. We can see the line `<table class=\"wikitable sortable\" style=\"margin-top:0; text-align:center; font-size:90%;\">` marks the start of the medal count table.\n",
    "\n",
    "70. This gives us the critical pieces of information we need when working in Python with `BeautifulSoup` to isolate this section of HTML.\n",
    " \n",
    "## Load URL and Create BeautifulSoup Object\n",
    "\n",
    "71. The first step in our program is to import the libraries we'll need, load the web page using `requests` and create the `BeautifulSoup` object."
   ]
  },
  {
   "cell_type": "code",
   "execution_count": null,
   "id": "0e320e4c",
   "metadata": {},
   "outputs": [],
   "source": [
    "# import libraries\n",
    "import requests\n",
    "from bs4 import BeautifulSoup\n",
    "import csv\n",
    "import pandas as pd"
   ]
  },
  {
   "cell_type": "code",
   "execution_count": null,
   "id": "e201a792",
   "metadata": {},
   "outputs": [],
   "source": [
    "# get page\n",
    "page = requests.get(\"https://en.wikipedia.org/wiki/All-time_Olympic_Games_medal_table\")\n",
    "\n",
    "# create BeautifulSoup object\n",
    "soup = BeautifulSoup(page.text, 'html.parser')\n",
    "\n",
    "# show BeautifulSoup object\n",
    "soup"
   ]
  },
  {
   "cell_type": "markdown",
   "id": "75973d47",
   "metadata": {},
   "source": [
    "72. At this point we have loaded the web page into Python as a `BeautifulSoup` object.\n",
    "\n",
    "## Extract Medal Table\n",
    "\n",
    "73. The next step is to use `BeautifulSoup` to identify and isolate the section of the web page we want to focus on.\n",
    "\n",
    "74. We can do this using the `.find()` or `.find_all()` with our `BeautifulSoup` object.\n",
    "\n",
    "75. `.find()` isolates a single instance of an HTML class or tag, while `.find_all()` creates a list-like object with each instance of a specific tag or class."
   ]
  },
  {
   "cell_type": "raw",
   "id": "8da407ba",
   "metadata": {},
   "source": [
    "# basic syntax for find\n",
    "soup.find(\"HTML TAG  GOES HERE\")\n",
    "\n",
    "# a specific example with the p tag\n",
    "soup.find(\"p\")"
   ]
  },
  {
   "cell_type": "raw",
   "id": "28c35236",
   "metadata": {},
   "source": [
    "# basic syntax for find_all, this time using a class instead of a tag\n",
    "soup.find_all(class_ = \"CLASS NAME GOES HERE\")\n",
    "\n",
    "# a specific example using the wikitable sortable class\n",
    "soup.find_all(class_ = 'wikitable sortable')"
   ]
  },
  {
   "cell_type": "markdown",
   "id": "f6f2feb0",
   "metadata": {},
   "source": [
    "76. Again, we know the line of HTML `<table class=\"wikitable sortable\" style=\"margin-top:0; text-align:center; font-size:90%;\">` marks the start of the medal count table.\n",
    "\n",
    "77. But we don't know how many instances of the `<table>` tag or `wikitable sortable` class appear in this web page.\n",
    "\n",
    "78. Some more work with `Command-F`/`Control-F` shows us there are 30 instances of the `<table>` tag and 9 instances of the `wikitable sortable` class in this page.\n",
    "\n",
    "79. So let's use `.find_all()` with the `wikitable sortable` class and then figure out which of those 9 instances is the table we want to work with."
   ]
  },
  {
   "cell_type": "code",
   "execution_count": null,
   "id": "afb79603",
   "metadata": {},
   "outputs": [],
   "source": [
    "# isolate all HTML with wikitable sortable class\n",
    "tables = soup.find_all(class_ = 'wikitable sortable')"
   ]
  },
  {
   "cell_type": "markdown",
   "id": "80237828",
   "metadata": {},
   "source": [
    "80. Then, we can use index operators to go through the items in `tables` to see which one has the HTML we want to work with."
   ]
  },
  {
   "cell_type": "code",
   "execution_count": null,
   "id": "42f5e424",
   "metadata": {},
   "outputs": [],
   "source": [
    "# show first table in tables\n",
    "tables[0]"
   ]
  },
  {
   "cell_type": "markdown",
   "id": "d1abcc43",
   "metadata": {},
   "source": [
    "81. The first table in the list is the medal count, so we can assign that to a variable."
   ]
  },
  {
   "cell_type": "code",
   "execution_count": null,
   "id": "b6461e53",
   "metadata": {},
   "outputs": [],
   "source": [
    "# isolate first table in tables\n",
    "medal_table = tables[0]"
   ]
  },
  {
   "cell_type": "markdown",
   "id": "a4a23c90",
   "metadata": {},
   "source": [
    "82. Now that we have just the HTML for the table we want to work with, we want to create a list-like object for each row in the table.\n",
    "\n",
    "83. So, we can use `.find()` or `.find_all()` again to create a list-like object with all elements that match a particular class or tag.\n",
    "\n",
    "84. In this case, we want the HTML for each row in the table to be a value or element in the list, so we're going to be looking for the table row `<tr>` tag.\n",
    "\n",
    "85. And since this table has multiple rows, we're going to use `.find_all(\"tr\")` to find all instances of the `<tr>` tag and map those onto a list-like structure."
   ]
  },
  {
   "cell_type": "code",
   "execution_count": null,
   "id": "d9b140a9",
   "metadata": {},
   "outputs": [],
   "source": [
    "# get all table rows from medal_table\n",
    "medal_test = medal_table.find_all(\"tr\")\n",
    "\n",
    "# show table rows\n",
    "medal_test"
   ]
  },
  {
   "cell_type": "markdown",
   "id": "1462f2d6",
   "metadata": {},
   "source": [
    "## Testing On Single Table Row (Single Country)\n",
    "\n",
    "86. So now we have the HTML for each row in the table as a list value in our `medal_test` list.\n",
    "\n",
    "87. We'll eventually want to figure out how to iterate over all the rows in `medal_test`, but for now, let's isolate a single row so we can test our program on a single row.\n",
    "\n",
    "88. Since the first two rows in the the table have column header information and do not match the structure/format of the country rows, we'll use the third row (first country row) for our single-row testing."
   ]
  },
  {
   "cell_type": "code",
   "execution_count": null,
   "id": "25ac805e",
   "metadata": {},
   "outputs": [],
   "source": [
    "# isolate first country in medal_table\n",
    "single_country = medal_test[2]\n",
    "\n",
    "# show first country\n",
    "single_country"
   ]
  },
  {
   "cell_type": "markdown",
   "id": "d9d636a7",
   "metadata": {},
   "source": [
    "89. Now, we have a `single_country` object that includes the entire HTML associated with the `<tr>` tag for `Afghanistan`.\n",
    "\n",
    "90. As before, we want to create a list-like object for each cell or column in the table.\n",
    "\n",
    "91. Since there are multiple cells in each row, we'll use `.find_all()` to look for the table cell `<td>` tag and map those values onto a list-like structure."
   ]
  },
  {
   "cell_type": "code",
   "execution_count": null,
   "id": "f29502ea",
   "metadata": {},
   "outputs": [],
   "source": [
    "# get all cells in single_country\n",
    "single_country = single_country.find_all(\"td\")\n",
    "\n",
    "# show single country\n",
    "single_country"
   ]
  },
  {
   "cell_type": "markdown",
   "id": "619104d7",
   "metadata": {},
   "source": [
    "2. Now we have a list of cells (`<td>` tags) for a single row of HTML in the original table.\n",
    "\n",
    "93. The next step is to figure out how we work within that list of `<td>` tag contents to isolate the specific values we want to eventually write to each row in our `CSV` file.\n",
    "\n",
    "94. At this point, before we start writing code to extract these values, it's useful to stop and think about the endpoint for the data scraping process. \n",
    "\n",
    "95. Specifically, thinking about what columns we have in mind for the ultimate data structure helps us keep the end goal in mind as we start working through each aspect of the program.\n",
    "\n",
    "96. For this table, we might want a data structure with the following columns:\n",
    "- `Country_Name`\n",
    "- `Country URL`\n",
    "- `Number of Summer Olympic Appearances`\n",
    "- `Number of Summer Olympic Gold Medals`\n",
    "- `Number of Summer Olympic Silver Medals`\n",
    "- `Number of Summer Olympic Bronze Medals`\n",
    "- `Total Number of Summer Olympic Medals`\n",
    "- `Number of Winter Olympic Appearances`\n",
    "- `Number of Winter Olympic Gold Medals`\n",
    "- `Number of Winter Olympic Silver Medals`\n",
    "- `Number of Winter Olympic Bronze Medals`\n",
    "- `Total Number of Winter Olympic Medals`\n",
    "- `Combined Number of Olympic Appearances`\n",
    "- `Combined Number of Gold Medals`\n",
    "- `Combined Number of Silver Medals`\n",
    "- `Combined Number of Bronze Medals`\n",
    "- `Total Combined Number of Medals`\n",
    "\n",
    "97. So let's figure out how we can isolate each of those values.\n",
    "\n",
    "### Get Country Name\n",
    "\n",
    "98. To get the country name, we can isolate the first cell (`<td>` tag) in the `single_country` list of cells."
   ]
  },
  {
   "cell_type": "code",
   "execution_count": null,
   "id": "b0348693",
   "metadata": {},
   "outputs": [],
   "source": [
    "# isolate first cell in single_country\n",
    "country_name = single_country[0]"
   ]
  },
  {
   "cell_type": "markdown",
   "id": "92aee81d",
   "metadata": {},
   "source": [
    "99. Then, we can use `.contents[]` (part of `BeautifulSoup`) to get the contents of that first cell."
   ]
  },
  {
   "cell_type": "code",
   "execution_count": null,
   "id": "23b381ef",
   "metadata": {},
   "outputs": [],
   "source": [
    "# isolate country name using contents and index\n",
    "country_name = country_name.contents[0]\n",
    "\n",
    "# show country_name HTML\n",
    "country_name"
   ]
  },
  {
   "cell_type": "markdown",
   "id": "83a27a1f",
   "metadata": {},
   "source": [
    "100. So now we have the HTML associated with the first `<td>` tag, but there's still a lot of extraneous markup we want to remove to get just the country name.\n",
    "\n",
    "```HTML\n",
    "<span id=\"AFG\"><img alt=\"\" class=\"thumbborder\" data-file-height=\"600\" data-file-width=\"900\" decoding=\"async\" height=\"15\" src=\"//upload.wikimedia.org/wikipedia/commons/thumb/c/cd/Flag_of_Afghanistan_%282013%E2%80%932021%29.svg/22px-Flag_of_Afghanistan_%282013%E2%80%932021%29.svg.png\" srcset=\"//upload.wikimedia.org/wikipedia/commons/thumb/c/cd/Flag_of_Afghanistan_%282013%E2%80%932021%29.svg/33px-Flag_of_Afghanistan_%282013%E2%80%932021%29.svg.png 1.5x, //upload.wikimedia.org/wikipedia/commons/thumb/c/cd/Flag_of_Afghanistan_%282013%E2%80%932021%29.svg/44px-Flag_of_Afghanistan_%282013%E2%80%932021%29.svg.png 2x\" width=\"22\"/> <a href=\"/wiki/Afghanistan_at_the_Olympics\" title=\"Afghanistan at the Olympics\">Afghanistan</a> <span style=\"font-size:90%;\">(AFG)</span></span>\n",
    "```\n",
    "\n",
    "101. If we drill down into this HTML, we can see the `<a href...>` tag is the HTML element closest to the country name we want to extract.\n",
    "\n",
    "102. So let's use `.find()` to get just the `a` tag HTML."
   ]
  },
  {
   "cell_type": "code",
   "execution_count": null,
   "id": "40f5e591",
   "metadata": {},
   "outputs": [],
   "source": [
    "# get HTML with a tag\n",
    "name_tag = country_name.find('a')\n",
    "\n",
    "# show name_tag\n",
    "name_tag"
   ]
  },
  {
   "cell_type": "markdown",
   "id": "1bf633fe",
   "metadata": {},
   "source": [
    "103. Now with just the `a` tag (`<a href=\"/wiki/Afghanistan_at_the_Olympics\" title=\"Afghanistan at the Olympics\">Afghanistan</a>`), we can use `.contents[]` again to get the tag contents.\n",
    "\n",
    "104. Remember an index value goes in the brackets for `.contents[]`."
   ]
  },
  {
   "cell_type": "code",
   "execution_count": null,
   "id": "f3945fd1",
   "metadata": {},
   "outputs": [],
   "source": [
    "# get contents of a href tag\n",
    "sample_name = name_tag.contents[0]\n",
    "\n",
    "# show country\n",
    "sample_name"
   ]
  },
  {
   "cell_type": "markdown",
   "id": "9628d04f",
   "metadata": {},
   "source": [
    "105. Voila! The country name. \n",
    "\n",
    "### Get Country URL\n",
    "\n",
    "```HTML\n",
    "<span id=\"AFG\"><img alt=\"\" class=\"thumbborder\" data-file-height=\"600\" data-file-width=\"900\" decoding=\"async\" height=\"15\" src=\"//upload.wikimedia.org/wikipedia/commons/thumb/c/cd/Flag_of_Afghanistan_%282013%E2%80%932021%29.svg/22px-Flag_of_Afghanistan_%282013%E2%80%932021%29.svg.png\" srcset=\"//upload.wikimedia.org/wikipedia/commons/thumb/c/cd/Flag_of_Afghanistan_%282013%E2%80%932021%29.svg/33px-Flag_of_Afghanistan_%282013%E2%80%932021%29.svg.png 1.5x, //upload.wikimedia.org/wikipedia/commons/thumb/c/cd/Flag_of_Afghanistan_%282013%E2%80%932021%29.svg/44px-Flag_of_Afghanistan_%282013%E2%80%932021%29.svg.png 2x\" width=\"22\"/> <a href=\"/wiki/Afghanistan_at_the_Olympics\" title=\"Afghanistan at the Olympics\">Afghanistan</a> <span style=\"font-size:90%;\">(AFG)</span></span>\n",
    "```\n",
    "\n",
    "106. If we look at the HTML associated with `country_name`, we can see that the country's Wikipedia URL is also in this section of HTML, as part of the `<a href...>` tag.\n",
    "\n",
    "107. So we can again use `.find()` to isolate the `<a>` tag's contents."
   ]
  },
  {
   "cell_type": "code",
   "execution_count": null,
   "id": "a2539aa0",
   "metadata": {},
   "outputs": [],
   "source": [
    "# get first/only instance of a link tag in HTML for single country\n",
    "link_test = country_name.find('a')\n",
    "\n",
    "# show link\n",
    "link_test"
   ]
  },
  {
   "cell_type": "markdown",
   "id": "d185e7c1",
   "metadata": {},
   "source": [
    "108. Now, looking at the `link_test` piece of HTML (`<a href=\"/wiki/Afghanistan_at_the_Olympics\" title=\"Afghanistan at the Olympics\">Afghanistan</a>`), we want to extract the URL associated with the `href` attribute.\n",
    "\n",
    "109. We were able to use `.contents[]` to get the contents of this HTML tag, but we'll need a different approach for getting the `href` attribute value.\n",
    "\n",
    "110. `BeautifulSoup` includes a `.get()` command that lets us isolate the value associated with an HTML attribute.\n",
    "\n",
    "111. So we can use `.get('href')` to isolate the URL."
   ]
  },
  {
   "cell_type": "code",
   "execution_count": null,
   "id": "0d24c8c8",
   "metadata": {},
   "outputs": [],
   "source": [
    "# get the contents of the url from the href attribute\n",
    "sample_link = link_test.get('href')\n",
    "\n",
    "# show href contents\n",
    "sample_link"
   ]
  },
  {
   "cell_type": "markdown",
   "id": "776a6071",
   "metadata": {},
   "source": [
    "112. But wait! `/wiki/Afghanistan_at_the_Olympics` doesn't look like a full url...\n",
    "\n",
    "113. That's because it isn't. Wikipedia is using an internal link with the `<a href...>` tag to connect to another Wikipedia page, which means they don't have to use the full URL for the link to work.\n",
    "\n",
    "114. But, we can use concatenation to recreate the full link, since all English-language Wikipedia pages start with the same root URL: `https://en.wikipedia.org`"
   ]
  },
  {
   "cell_type": "code",
   "execution_count": null,
   "id": "96744d00",
   "metadata": {},
   "outputs": [],
   "source": [
    "# use contenation to get full url\n",
    "full_link = \"https://en.wikipedia.org\" + sample_link\n",
    "\n",
    "# show full link\n",
    "full_link"
   ]
  },
  {
   "cell_type": "markdown",
   "id": "51648a8e",
   "metadata": {},
   "source": [
    "115. Great! Now we have the full link.\n",
    "\n",
    "### Medal Counts\n",
    "\n",
    "116. If we take a look at the original Wikipedia table, we notice there are three column \"groupings\":\n",
    "- `Summer Olympic Games`\n",
    "- `Winter Olympic Games`\n",
    "- `Combined total`\n",
    "\n",
    "117. We can extract medal counts within each of these column groups by selecting the cell and then getting the value of that cell using `contents[]` and index values."
   ]
  },
  {
   "cell_type": "code",
   "execution_count": null,
   "id": "63de5d78",
   "metadata": {},
   "outputs": [],
   "source": [
    "# number of summer olympic appearances\n",
    "no_summer_olympics = single_country[1]\n",
    "\n",
    "no_summer_olympics = no_summer_olympics.contents[0]\n",
    "\n",
    "no_summer_olympics"
   ]
  },
  {
   "cell_type": "code",
   "execution_count": null,
   "id": "fbf28424",
   "metadata": {},
   "outputs": [],
   "source": [
    "# number of summer gold medals\n",
    "no_summer_gold = single_country[2]\n",
    "\n",
    "no_summer_gold = no_summer_gold.contents[0]\n",
    "\n",
    "no_summer_gold"
   ]
  },
  {
   "cell_type": "code",
   "execution_count": null,
   "id": "947ffc00",
   "metadata": {},
   "outputs": [],
   "source": [
    "# number of summer silver medals\n",
    "no_summer_silver = single_country[3]\n",
    "\n",
    "no_summer_silver = no_summer_silver.contents[0]\n",
    "\n",
    "no_summer_silver"
   ]
  },
  {
   "cell_type": "code",
   "execution_count": null,
   "id": "9e5a9dd6",
   "metadata": {},
   "outputs": [],
   "source": [
    "# number of summer bronze medals\n",
    "no_summer_bronze = single_country[4]\n",
    "\n",
    "no_summer_bronze = no_summer_bronze.contents[0]\n",
    "\n",
    "no_summer_bronze"
   ]
  },
  {
   "cell_type": "code",
   "execution_count": null,
   "id": "4c23e23a",
   "metadata": {},
   "outputs": [],
   "source": [
    "# total number of summer olympics medals\n",
    "total_no_summer_medals = single_country[5]\n",
    "\n",
    "total_no_summer_medals = total_no_summer_medals.contents[0]\n",
    "\n",
    "# use strip() to remove line break\n",
    "total_no_summer_medals = total_no_summer_medals.strip()\n",
    "\n",
    "total_no_summer_medals"
   ]
  },
  {
   "cell_type": "code",
   "execution_count": null,
   "id": "460af485",
   "metadata": {},
   "outputs": [],
   "source": [
    "# total number of winter olympic appearances\n",
    "no_winter_olympics = single_country[6]\n",
    "\n",
    "no_winter_olympics = no_winter_olympics.contents[0]\n",
    "\n",
    "no_winter_olympics"
   ]
  },
  {
   "cell_type": "code",
   "execution_count": null,
   "id": "9595ee49",
   "metadata": {},
   "outputs": [],
   "source": [
    "# number of winter gold medals\n",
    "no_winter_gold = single_country[7]\n",
    "\n",
    "no_winter_gold = no_winter_gold.contents[0]\n",
    "\n",
    "no_winter_gold"
   ]
  },
  {
   "cell_type": "code",
   "execution_count": null,
   "id": "c366e34f",
   "metadata": {},
   "outputs": [],
   "source": [
    "# number of winter silver\n",
    "no_winter_silver = single_country[8]\n",
    "\n",
    "no_winter_silver = no_winter_silver.contents[0]\n",
    "\n",
    "no_winter_silver"
   ]
  },
  {
   "cell_type": "code",
   "execution_count": null,
   "id": "349174ed",
   "metadata": {},
   "outputs": [],
   "source": [
    "# number of winter bronze\n",
    "no_winter_bronze = single_country[9]\n",
    "\n",
    "no_winter_bronze = no_winter_bronze.contents[0]\n",
    "\n",
    "no_winter_bronze"
   ]
  },
  {
   "cell_type": "code",
   "execution_count": null,
   "id": "08936913",
   "metadata": {},
   "outputs": [],
   "source": [
    "# total number of winter medals\n",
    "total_no_winter_medals = single_country[10]\n",
    "\n",
    "total_no_winter_medals = total_no_winter_medals.contents[0]\n",
    "\n",
    "# use strip() to remove line break\n",
    "total_no_winter_medals = total_no_winter_medals.strip()\n",
    "\n",
    "total_no_winter_medals"
   ]
  },
  {
   "cell_type": "code",
   "execution_count": null,
   "id": "b8bd149c",
   "metadata": {},
   "outputs": [],
   "source": [
    "# total number combined olympic appearances\n",
    "no_combined_olympics = single_country[11]\n",
    "\n",
    "no_combined_olympics = no_combined_olympics.contents[0]\n",
    "\n",
    "no_combined_olympics"
   ]
  },
  {
   "cell_type": "code",
   "execution_count": null,
   "id": "8a9fbd1d",
   "metadata": {},
   "outputs": [],
   "source": [
    "# total number gold medals\n",
    "no_combined_gold = single_country[12]\n",
    "\n",
    "no_combined_gold = no_combined_gold.contents[0]\n",
    "\n",
    "no_combined_gold"
   ]
  },
  {
   "cell_type": "code",
   "execution_count": null,
   "id": "a826b9ff",
   "metadata": {},
   "outputs": [],
   "source": [
    "# total number silver medals\n",
    "no_combined_silver = single_country[13]\n",
    "\n",
    "no_combined_silver = no_combined_silver.contents[0]\n",
    "\n",
    "no_combined_silver"
   ]
  },
  {
   "cell_type": "code",
   "execution_count": null,
   "id": "650440e2",
   "metadata": {},
   "outputs": [],
   "source": [
    "# total number bronze medals\n",
    "no_combined_bronze = single_country[14]\n",
    "\n",
    "no_combined_bronze = no_combined_bronze.contents[0]\n",
    "\n",
    "no_combined_bronze"
   ]
  },
  {
   "cell_type": "code",
   "execution_count": null,
   "id": "addb042f",
   "metadata": {},
   "outputs": [],
   "source": [
    "# total number of medals, combined\n",
    "total_no_combined_medals = single_country[15]\n",
    "\n",
    "total_no_combined_medals = total_no_combined_medals.contents[0]\n",
    "\n",
    "# use strip() to remove line break\n",
    "total_no_combined_medals = total_no_combined_medals.strip()\n",
    "\n",
    "total_no_combined_medals"
   ]
  },
  {
   "cell_type": "markdown",
   "id": "92eca4f2",
   "metadata": {},
   "source": [
    "118. Now we have working code that extracts each piece of data from a row in the table.\n",
    "\n",
    "# Sample For Loops\n",
    "\n",
    "119. Now, we have working code that will extract each piece of data as a variable. We want to run these lines of code on each country in the table to get the data in each column.\n",
    "\n",
    "120. We can do this using a `for` loop that iterates through each row in the table.\n",
    "\n",
    "121. But before we throw iteration into the mix, we want to remove the first two items in `medal_test`, since they have the column header information and don't match the format/structure of the rest of the table.\n",
    "\n",
    "122. We can do this using `del` statements."
   ]
  },
  {
   "cell_type": "code",
   "execution_count": null,
   "id": "9917779d",
   "metadata": {},
   "outputs": [],
   "source": [
    "# remove first row\n",
    "del medal_test[0]"
   ]
  },
  {
   "cell_type": "code",
   "execution_count": null,
   "id": "ab6fc77e",
   "metadata": {},
   "outputs": [],
   "source": [
    "# remove new first row\n",
    "del medal_test[0]"
   ]
  },
  {
   "cell_type": "code",
   "execution_count": null,
   "id": "d9ad2d91",
   "metadata": {},
   "outputs": [],
   "source": [
    "# show updated medal_test\n",
    "medal_test"
   ]
  },
  {
   "cell_type": "markdown",
   "id": "9ffc809d",
   "metadata": {},
   "source": [
    "123. Now we're ready to iterate over each country (table row) using the code we tested on a single country.\n",
    "\n",
    "124. We can create a list with each row's values and append that list as a sublist or nested list to an empty list."
   ]
  },
  {
   "cell_type": "code",
   "execution_count": null,
   "id": "985776c4",
   "metadata": {},
   "outputs": [],
   "source": [
    "# create empty list for data\n",
    "test_list = []\n",
    "\n",
    "for row in medal_test:\n",
    "    \n",
    "    # create empty list for td tags in single row\n",
    "    tags = []\n",
    "    \n",
    "    # isolate td elements\n",
    "    test = row.find_all(\"td\")\n",
    "    \n",
    "    # append tags to tag list\n",
    "    tags.append(test)\n",
    "    \n",
    "    for single_country in tags:\n",
    "        \n",
    "        try:\n",
    "            # gets country name\n",
    "            country_name = single_country[0].contents[0]\n",
    "            name_tag = country_name.find('a')\n",
    "            sample_name = name_tag.contents[0]\n",
    "\n",
    "            # get first/only instance of a link tag in HTML for single country\n",
    "            link_test = country_name.find('a')\n",
    "\n",
    "            # get contents of url from href attribute\n",
    "            sample_link = link_test.get('href')\n",
    "\n",
    "            # use concatenation to get full url\n",
    "            full_link = \"https://en.wikipedia.org\" + sample_link\n",
    "\n",
    "            # get number of summer olympic appearances\n",
    "            no_summer_olympics = single_country[1].contents[0]\n",
    "\n",
    "            # get number of summer gold medals\n",
    "            no_summer_gold = single_country[2].contents[0]\n",
    "\n",
    "            # get number of summer silver medals\n",
    "            no_summer_silver = single_country[3].contents[0]\n",
    "\n",
    "            # get number of summer bronze medals\n",
    "            no_summer_bronze = single_country[4].contents[0]\n",
    "\n",
    "            # total number of summer olympics medals\n",
    "            total_no_summer_medals = single_country[5].contents[0].strip()\n",
    "\n",
    "            # total number of winter olympic appearances\n",
    "            no_winter_olympics = single_country[6].contents[0]\n",
    "\n",
    "            # number of winter gold medals\n",
    "            no_winter_gold = single_country[7].contents[0]\n",
    "\n",
    "            # number of winter silver medals\n",
    "            no_winter_silver = single_country[8].contents[0]\n",
    "\n",
    "            # number of winter bronze medals\n",
    "            no_winter_bronze = single_country[9].contents[0]\n",
    "\n",
    "            # total number of winter medals\n",
    "            total_no_winter_medals = single_country[10].contents[0].strip()\n",
    "\n",
    "            # total number combined olympic appearances\n",
    "            no_combined_olympics = single_country[11].contents[0]\n",
    "\n",
    "            # total number gold medals\n",
    "            no_combined_gold = single_country[12].contents[0]\n",
    "\n",
    "            # total number silver medals\n",
    "            no_combined_silver = single_country[13].contents[0]\n",
    "\n",
    "            # total number bronze medals\n",
    "            no_combined_bronze = single_country[14].contents[0]\n",
    "\n",
    "            # total number of medals, combined\n",
    "            total_no_combined_medals = single_country[15].contents[0].strip()\n",
    "\n",
    "            # creates list of values from each data element\n",
    "            row_data = [sample_name, full_link, no_summer_olympics, no_summer_gold, no_summer_silver, no_summer_bronze, total_no_summer_medals, no_winter_olympics, no_winter_gold, no_winter_silver, no_winter_bronze, total_no_winter_medals, no_combined_olympics, no_combined_gold, no_combined_silver, no_combined_bronze, total_no_combined_medals]\n",
    "\n",
    "            # append row_data to test_list\n",
    "            test_list.append(row_data)\n",
    "            \n",
    "        except:\n",
    "            continue\n",
    "    \n",
    "# show list\n",
    "test_list"
   ]
  },
  {
   "cell_type": "markdown",
   "id": "b9e6706e",
   "metadata": {},
   "source": [
    "125. Each row of data in the table is a list value, or sublist/nested list in `test_list`.\n",
    "\n",
    "126. In this program `try` and `except` instruct Python to `try` to run the lines nested under `try`, but if it runs into an error (`except`), `continue` iterating over the values in the `tags` list.\n",
    "\n",
    "127. Using `try` and `except` can be dangerous if you don't know if or how a program is working- in this case, we've tested the program and got it working on a single row that matches the pattern for all the rows we want to scrape data frame.\n",
    "\n",
    "128. Now that we know the iteration is working, we can take `test_list` and write each item in the list (which itself is a row of data) to a row in a `CSV` file."
   ]
  },
  {
   "cell_type": "code",
   "execution_count": null,
   "id": "9278d9cf",
   "metadata": {},
   "outputs": [],
   "source": [
    "# create new csv file\n",
    "f = csv.writer(open('medals.csv', 'w'))\n",
    "\n",
    "# assign headers\n",
    "headers = [\"country_name\", \"link\", \"no_summer_olympics\", \"no_summer_gold\", \"no_summer_silver\", \"no_summer_bronze\", \"total_no_summer_medals\", \"no_winter_olympics\", \"no_winter_gold\", \"no_winter_silver\", \"no_winter_bronze\", \"total_no_winter_medals\", \"no_combined_olympics\", \"no_combined_gold\", \"no_combined_silver\", \"no_combined_bronze\", \"total_no_combined_medals\"]\n",
    "\n",
    "# write header row or first row for CSV file\n",
    "f.writerow(headers)\n",
    "\n",
    "# for loop that assigns each element in test_list to a new row\n",
    "for row in test_list:\n",
    "    f.writerow(row)"
   ]
  },
  {
   "cell_type": "markdown",
   "id": "6781a4a3",
   "metadata": {},
   "source": [
    "129. We can also use `test_list` and `headers` to create a `pandas` `DataFrame`.\n",
    "\n",
    "130. `pandas` will map each value in the list (nested list or sublist with single row of data) to a row in the `DataFrame`.\n",
    "\n",
    "131. And the `headers` list we created for writing the first row of the `medals` CSV file can be used to set the `DataFrame` column names."
   ]
  },
  {
   "cell_type": "code",
   "execution_count": null,
   "id": "008038cc",
   "metadata": {},
   "outputs": [],
   "source": [
    "# import pandas\n",
    "import pandas as pd\n",
    "\n",
    "# create data frame \n",
    "df = pd.DataFrame(test_list, columns=headers)\n",
    "\n",
    "# show df\n",
    "df"
   ]
  },
  {
   "cell_type": "markdown",
   "id": "da705519",
   "metadata": {},
   "source": [
    "132. Then we could use `pd.to_csv` to write the `DataFrame` to a `CSV` file."
   ]
  },
  {
   "cell_type": "code",
   "execution_count": null,
   "id": "61ded05b",
   "metadata": {},
   "outputs": [],
   "source": [
    "# write df to csv file\n",
    "df.to_csv(\"df_medals.csv\", index=False)"
   ]
  },
  {
   "cell_type": "markdown",
   "id": "57c4b308",
   "metadata": {},
   "source": [
    "<blockquote>Q1: Describe the general approach to loading a web page in Python using <code>requests</code> and isolating the section of HTML you need using <code>BeautifulSoup</code>. What are the basic steps involved in this workflow, thinking about what happens at the start of the program to isolate the section of HTML you would need to do further work with to extract the data you want to work with?</blockquote>\n",
    "\n",
    "<blockquote>Q2: Select another Wikipedia page that includes a table. From looking at the public web page, what data do you want to scrape from this web page (i.e. specific table, multiple tables, etc.)? What do you want the resulting data structure to look like (columns, rows, etc)?</blockquote>\n",
    "\n",
    "<blockquote>Q3: Take a look at the HTML for this page. What tags or other HTML components do you see around the section of the page you want to work with? For this question, we're thinking about how we will end up writing a program with <code>BeautifulSoup</code> to isolate a section of the web page.</blockquote>\n",
    "\n",
    "<blockquote>Q4: Develop an outline for a Python program that scrapes data from the web page you selected. A preliminary workflow:\n",
    "    <ul>\n",
    "        <li>Load URL and create BeautifulSoup object</li>\n",
    "        <li>Isolate section of HTML with your table (either directly or extract from list)</li>\n",
    "        <li>Isolate table row elements (create list where each element is a table row)</li>\n",
    "        <li>Extract contents from row (isolate the pieces of information from each row)</li>\n",
    "        <li>Create Pandas DataFrame</li>\n",
    "        <li>Write extracted row contents to CSV file</li>\n",
    "    </ul><br>NOTE: You do not need to have working code for all components of this program. That's where we're heading with the final project. At this point, we're focusing on the conceptual framework for the web scraping program. Start to build out code where you can, but think about the programming version of outlining a paper.</blockquote>\n",
    "    \n",
    "<blockquote>Q5: What challenges or roadblocks did you face working on Q4? What parts of the program do you understand/feel ready to develop at this point? What parts of the program are less clear?</blockquote>"
   ]
  },
  {
   "cell_type": "markdown",
   "id": "e207ff03",
   "metadata": {},
   "source": [
    "# Working With Multiple Pages\n",
    "\n",
    "133. In the previous example of a Wikipedia page with Olympic medal counts, we were scraping data from a single web page.\n",
    "\n",
    "134. But we can also imagine a scenario where we might want to scrape data from multiple web pages or a series of web pages that have the same HTML structure or format.\n",
    "\n",
    "135. For example, head to https://www.sports-reference.com/cfb/schools/notre-dame/1940-schedule.html to explore the College Football Reference page for Notre Dame's 1940 football season.\n",
    "\n",
    "<p align=\"center\"><a href=\"https://github.com/kwaldenphd/web-scraping-python/blob/main/images/fig4.jpg?raw=true\"><img class=\"aligncenter\" src=\"https://github.com/kwaldenphd/web-scraping-python/blob/main/images/fig4.jpg?raw=true\" /></a></p>\n",
    "\n",
    "136. We can use the `Previous Year` and `Next Year` buttons at the top of the page to look at pre- and post-1940 pages.\n",
    "\n",
    "137. Take a look at page URLs as you change years- the start (or root) of the url `https://www.sports-reference.com/cfb/schools/notre-dame/` and the end (or tag) of the url `-schedule.html` remain the same, while only the year value changes.\n",
    "\n",
    "138. Since the data format/structure is fairly consistent across the different season pages, if we get a program working for one season/page, it stands to reason we could run that program on multiple pages by iterating over a list of URLs.\n",
    "\n",
    "139. Let's take a look at how we could get a list of URLs for the College Football Reference Notre Dame pages.\n",
    "\n",
    "140. First, we would assign the URL root and tag to named variables."
   ]
  },
  {
   "cell_type": "code",
   "execution_count": null,
   "id": "0e02612f",
   "metadata": {},
   "outputs": [],
   "source": [
    "# root url\n",
    "root = \"https://www.sports-reference.com/cfb/schools/notre-dame/\"\n",
    "\n",
    "# url tag\n",
    "tag = \"-schedule.html\""
   ]
  },
  {
   "cell_type": "markdown",
   "id": "b6cd9ab9",
   "metadata": {},
   "source": [
    "141. Then, we could use `range` to create a list of years spanning the dates we want to cover."
   ]
  },
  {
   "cell_type": "code",
   "execution_count": null,
   "id": "46cf0c2a",
   "metadata": {},
   "outputs": [],
   "source": [
    "# year range\n",
    "years = range(1899, 2021, 1)"
   ]
  },
  {
   "cell_type": "markdown",
   "id": "023b72eb",
   "metadata": {},
   "source": [
    "142. Then, we could use concatenation and a `for` loop to generate a list of full URLs for the seasons we want to cover."
   ]
  },
  {
   "cell_type": "code",
   "execution_count": null,
   "id": "eb87b850",
   "metadata": {},
   "outputs": [],
   "source": [
    "# empty list for urls\n",
    "urls = []\n",
    "\n",
    "# for loop that concatenates full url\n",
    "for year in years:\n",
    "    urls.append(root + str(year) + tag)\n",
    "    \n",
    "# show list of urls\n",
    "urls"
   ]
  },
  {
   "cell_type": "markdown",
   "id": "e9d065c7",
   "metadata": {},
   "source": [
    "143. With the `urls` list, we could write a program that works for a single page and then use a `for` loop to iterate over each url in the `urls` list.\n",
    "\n",
    "<blockquote>Q6: Describe in your own words how the url generation program covered in the previous section of the lab works. The full program is also included below. What is happening in the different program components?</blockquote>"
   ]
  },
  {
   "cell_type": "code",
   "execution_count": null,
   "id": "bdb9fcb9",
   "metadata": {},
   "outputs": [],
   "source": [
    "root = \"https://www.sports-reference.com/cfb/schools/notre-dame/\"\n",
    "\n",
    "years = range(1899, 2021, 1)\n",
    "\n",
    "tag = \"-schedule.html\"\n",
    "\n",
    "urls = []\n",
    "\n",
    "for year in years:\n",
    "    urls.append(root + str(year) + tag)\n",
    "    \n",
    "urls"
   ]
  },
  {
   "cell_type": "markdown",
   "id": "148df0f2",
   "metadata": {},
   "source": [
    "<blockquote>Q7: Select another Sports Reference web page that follows this pattern and write a program that generates a list of full URLs for that team/organization.<br><br>A few places to start:\n",
    "    <ul>\n",
    "        <li>Baseball Reference season web pages have the following URL pattern: <code>https://www.baseball-reference.com/teams/</code>, <code>TEAM ABBREVIATION</code>, <code>SEASON</code>, <code>.shtml</code></li>\n",
    "        <li>Basketball Reference season web pages have a similar pattern for NBA teams: <code>https://www.basketball-reference.com/teams</code>, <code>TEAM ABBREVIATION</code>, <code>SEASON</code>, <code>.html</code></li>\n",
    "        <li>Basketball Reference uses a slightly different pattern for its WNBA pages: <code>https://www.basketball-reference.com/wnba/teams</code>, <code>TEAM ABBREVIATION</code>, <code>SEASON</code>, <code>.html</code></li>\n",
    "        <li>College Basketball Reference pages also follow a pattern: <code>https://www.sports-reference.com/cbb/schools</code>, <code>SCHOOL ABBREVIATION</code>, <code>SEASON</code>, <code>.html</code></li>\n",
    "        <li>For Hockey Reference pages: <code>https://www.hockey-reference.com/teams</code>, <code>TEAM ABBREVIATION</code>, <code>SEASON</code>, <code>.html</code></li>\n",
    "        <li>Football Reference pages follow the same pattern for men's and women's teams: <code>https://fbref.com/en/squads/</code>, <code>SQUAD ID</code>, <code>SEASON</code>, <code>TEAM NAME</code></li>\n",
    "        <li>Pro Football Reference pages also have a pattern: <code>https://www.pro-football-reference.com/teams/</code>, <code>TEAM ABBREVIATION</code>, <code>SEASON</code>, <code>.htm</code></li>\n",
    "    </ul>\n",
    "    <br><br>NOTE: You DO NOT need to write a program that scrapes data from these pages for this question. The purpose of this question is to be able to programmatically generate a list of URLs that cover a date range.\n",
    "    </blockquote>"
   ]
  },
  {
   "cell_type": "markdown",
   "id": "e9e0110b",
   "metadata": {},
   "source": [
    "# An Alternate Approach: pandas.read_html()\n",
    "\n",
    "144. `BeautifulSoup` is an incredibly powerful package that lets us drill down into the structure of an HTML document to isolate the pieces of information we need or want to work with.\n",
    "\n",
    "145. But if we're dealing with an HTML table that has straightforward formatting, an alternate approach is to use the `.read_html()` function that is part of the `pandas` library.\n",
    "\n",
    "146. `pd.read_html()` looks for any `<table>` tag on a web page and reads each `<table>`  tag's HTML into Python as a list of `DataFrame` objects.\n",
    "\n",
    "147. Let's take a look at how we could use `pd.read_html()` for the College Football Reference web page we looked at in the previous section of the lab."
   ]
  },
  {
   "cell_type": "code",
   "execution_count": null,
   "id": "ee9aa50a",
   "metadata": {},
   "outputs": [],
   "source": [
    "# import pandas\n",
    "import pandas as pd\n",
    "\n",
    "# load url\n",
    "url = \"https://www.sports-reference.com/cfb/schools/notre-dame/1940-schedule.html\"\n",
    "\n",
    "# create list of dataframes from url using .read_html()\n",
    "dfs = pd.read_html(url)\n",
    "\n",
    "# show dfs list\n",
    "dfs"
   ]
  },
  {
   "cell_type": "markdown",
   "id": "534ae327",
   "metadata": {},
   "source": [
    "148. At first glance, `dfs` doesn't seem to have clear data tables, but remember `dfs` is a list of `DataFrames` created from any HTML `table` content on the page."
   ]
  },
  {
   "cell_type": "code",
   "execution_count": null,
   "id": "acee0b1c",
   "metadata": {},
   "outputs": [],
   "source": [
    "# number of elements in dfs list\n",
    "len(dfs)"
   ]
  },
  {
   "cell_type": "markdown",
   "id": "eb76575b",
   "metadata": {},
   "source": [
    "149. Since there are only two elements in the `dfs` list, let's isolate each one."
   ]
  },
  {
   "cell_type": "code",
   "execution_count": null,
   "id": "06b37f7b",
   "metadata": {},
   "outputs": [],
   "source": [
    "# show first dataframe in dfs\n",
    "dfs[0]"
   ]
  },
  {
   "cell_type": "markdown",
   "id": "7c7e25fa",
   "metadata": {},
   "source": [
    "150. These values correspond to the `AP Poll Summary` table on the page."
   ]
  },
  {
   "cell_type": "code",
   "execution_count": null,
   "id": "1cb3dd1b",
   "metadata": {},
   "outputs": [],
   "source": [
    "# show second dataframe in dfs\n",
    "dfs[1]"
   ]
  },
  {
   "cell_type": "markdown",
   "id": "a69c5bee",
   "metadata": {},
   "source": [
    "151. These values correspond to the `9 Games` schedule table on the page.\n",
    "\n",
    "152. We could create a single `DataFrame` by selecting the second element in `dfs`."
   ]
  },
  {
   "cell_type": "code",
   "execution_count": null,
   "id": "b1c608a8",
   "metadata": {},
   "outputs": [],
   "source": [
    "# create new dataframe \n",
    "schedule_df = dfs[1]\n",
    "\n",
    "# show new dataframe\n",
    "schedule_df"
   ]
  },
  {
   "cell_type": "markdown",
   "id": "30da177d",
   "metadata": {},
   "source": [
    "153. College Football Reference schedule pages for pre-1936 Notre Dame do not have the first `AP Poll` table.\n",
    "\n",
    "154. We can use the 1935 schedule page (https://www.sports-reference.com/cfb/schools/notre-dame/1935-schedule.html) as an example."
   ]
  },
  {
   "cell_type": "code",
   "execution_count": null,
   "id": "17bbc253",
   "metadata": {},
   "outputs": [],
   "source": [
    "# load url\n",
    "url = \"https://www.sports-reference.com/cfb/schools/notre-dame/1935-schedule.html\"\n",
    "\n",
    "# create list of dataframes from url using .read_html()\n",
    "dfs = pd.read_html(url)\n",
    "\n",
    "# show number of tables in dfs\n",
    "len(dfs)"
   ]
  },
  {
   "cell_type": "markdown",
   "id": "07e98fc4",
   "metadata": {},
   "source": [
    "155. Only one table here, so we can isolate that table as a `DataFrame`."
   ]
  },
  {
   "cell_type": "code",
   "execution_count": null,
   "id": "2a2fdb5d",
   "metadata": {},
   "outputs": [],
   "source": [
    "# create new dataframe \n",
    "schedule_df = dfs[0]\n",
    "\n",
    "# show new dataframe\n",
    "schedule_df"
   ]
  },
  {
   "cell_type": "markdown",
   "id": "9bf43806",
   "metadata": {},
   "source": [
    "156. If we were ultimately going to do further work with analyzing/visualizing this data, we would probably want to spend some more time standardizing column names and values. \n",
    "\n",
    "157. And if we were going to scrape this table across multiple pages, we would need to find some way to get the year or season represented in the `DataFrame`.\n",
    "\n",
    "158. But for now, if we wanted to write the `DataFrame` we created using `pd.read_html()` to a `CSV`..."
   ]
  },
  {
   "cell_type": "code",
   "execution_count": null,
   "id": "285b927d",
   "metadata": {},
   "outputs": [],
   "source": [
    "schedule_df.to_csv(\"sample_cfb_schedule.csv\", index=False)"
   ]
  },
  {
   "cell_type": "markdown",
   "id": "8c5c3e34",
   "metadata": {},
   "source": [
    "<blockquote>Q8: Describe the general approach to loading a web page in Python using <code>pd.read_html()</code>. What are the basic steps involved in this workflow, thinking about what happens to identify/isolate the specific table you want to work with?</blockquote> \n",
    "\n",
    "<blockquote>Q9: For Q7, you generated a list of Sports Reference URLs covering a time span for a specific team/organization. Select three years and web pages from that list- something early in the time period covered, something in the middle of the time period covered, and something toward the end of the time period covered.<br><br>Do these pages have the same pattern in terms of number and order of tables?<br><br>For one of these pages, what table or tables would you want to be able to extract and work with?</blockquote>\n",
    "\n",
    "<blockquote>Q10: Develop an outline for a Python program that uses <code>pd.read_html()</code> to scrape data from one of the web pages you select in Q9. A preliminary workflow:\n",
    "    <ul>\n",
    "        <li>Use <code>pd.read_html()</code> to create a list of DataFrame objects</li>\n",
    "        <li>Identify which DataFrame object in the list is the table you want to work with</li>\n",
    "        <li>Isolate the list element to create a new DataFrame</li>\n",
    "        <li>Write the new DataFrame to a CSV file</li>\n",
    "    </ul><br><br>NOTE: For Q4, you did not need to have working code for all components of this program. Since <code>pd.read_html()</code> has an easier learning curve, let's see if we can flesh out more of this program. But if you run into problems, it's okay to focus on the conceptual framework for the web scraping program. Start to build out code where you can, but think about the programming version of outlining a paper.<br><br>ANOTHER NOTE: For many Sports Reference pages, tables further down the page are buried in HTML comments. These tables will not show up when you use <code>pd.read_html()</code>. We can come back to these \"hidden tables\" in the final project, but for now, focus on the tables that do show up when you use <code>pd.read_html()</code>.</blockquote>\n",
    "    \n",
    "<blockquote>Q11: What challenges or roadblocks did you face working on Q10? What parts of the program do you understand and/or were able to develop? What parts of the program are less clear?</blockquote>"
   ]
  },
  {
   "cell_type": "markdown",
   "id": "412a2425",
   "metadata": {},
   "source": [
    "# Web Scraping and Unstructured Text\n",
    "\n",
    "159. So far, this lab has focused on approaches for scraping structured data from the web using Python.\n",
    "\n",
    "160. But there are other contexts and use cases when we might want to be able to scrape unstructured text from the web and be able to work with that \"data\" in Python (or write it to a plain-text `.txt` file).\n",
    "\n",
    "161. For example, take a look at a recent *Observer* article: https://ndsmcobserver.com/2021/10/south-bend-community-leaders-discuss-role-of-notre-dame-in-fight-for-black-civil-rights/\n",
    "\n",
    "162. Imagine we wanted to use Python to analyze the words or terms used in this article.\n",
    "\n",
    "163. The first step would be to get a plain-text `.txt` version of the article text.\n",
    "\n",
    "164. We would start with the same `BeautifulSoup` workflow we've used previously:\n",
    "- Load URL\n",
    "- Create `BeautifulSoup` object\n",
    "- Isolate section of HTML with article text"
   ]
  },
  {
   "cell_type": "code",
   "execution_count": null,
   "id": "ae2858c9",
   "metadata": {},
   "outputs": [],
   "source": [
    "# get page\n",
    "page = requests.get(\"https://ndsmcobserver.com/2021/10/south-bend-community-leaders-discuss-role-of-notre-dame-in-fight-for-black-civil-rights/\")\n",
    "\n",
    "# create BeautifulSoup object\n",
    "soup = BeautifulSoup(page.text, 'html.parser')\n",
    "\n",
    "# show BeautifulSoup object\n",
    "soup"
   ]
  },
  {
   "cell_type": "markdown",
   "id": "95abe68f",
   "metadata": {},
   "source": [
    "165. Next, we want to isolate the section of the page that includes the article text.\n",
    "\n",
    "```HTML\n",
    "<article class=\"section news\">\n",
    "<div class=\"title-container\">\n",
    "<h2 class=\"topic\"><span class=\"title\">news</span></h2>\n",
    "<ul class=\"see-social addthis_toolbox\" addthis:url=\"https://ndsmcobserver.com/2021/10/south-bend-community-leaders-discuss-role-of-notre-dame-in-fight-for-black-civil-rights/\" addthis:title=\"South Bend community leaders discuss role of Notre Dame in fight for Black civil rights\" addthis:description=\"South Bend community leaders discuss role of Notre Dame in fight for Black civil rights\">\n",
    "<li><a class=\"addthis_button_email email\"></a></li>\n",
    "<li><a class=\"addthis_button_facebook facebook\"></a></li>\n",
    "<li><a class=\"addthis_button_twitter twitter\"></a></li>\n",
    "</ul> \n",
    "</div> \n",
    "<div class=\"content-header\">\n",
    "<h3>South Bend community leaders discuss role of Notre Dame in fight for Black civil rights</h3>\n",
    "<p class=\"info\"><a href=\"https://ndsmcobserver.com/author/vortiz2/\" title=\"Posts by Valeria Ortiz\" class=\"author url fn\" rel=\"author\">Valeria Ortiz</a> | Friday, October 15, 2021</p>\n",
    "\n",
    "</div> \n",
    "<span id=\"outstream-unit\" style=\"width:100%;height:550px;padding:0.5em 0\"></span>\n",
    "<div class=\"content-body\">\n",
    "<p>The Notre Dame Initiative on Race and Resilience hosted a panel Wednesday in DeBartolo Hall on Black civil rights in South Bend, featuring some of South Bend’s prominent community leaders.</p>\n",
    "<p>The panel, which intended to explore the immense social inequalities facing South Bend’s Black residents, included Trina Robinson, president of NAACP-South Bend; Regina Williams-Preston, president of Community Action for Education and former South Bend Common Council representative; Jorden Giger, co-founder of Black Lives Matter South Bend and Deacon Mel Tardy, deacon of St. Augustine Parish and an advising faculty at the University.</p>\n",
    "<figure id=\"attachment_234452\" class=\"wp-caption aligncenter\" style=\"width: 700px\"> <div class=\"media-credit-container aligncenter\" style=\"max-width: 710px\">\n",
    "<img data-attachment-id=\"234452\" data-permalink=\"https://ndsmcobserver.com/2021/10/south-bend-community-leaders-discuss-role-of-notre-dame-in-fight-for-black-civil-rights/screen-shot-2021-10-15-at-8-36-39-pm/\" data-orig-file=\"https://i1.wp.com/ndsmcobserver.com/wp-content/uploads/2021/10/1634330204-71900895f520822.png?fit=726%2C538&amp;ssl=1\" data-orig-size=\"726,538\" data-comments-opened=\"1\" data-image-meta=\"{&quot;aperture&quot;:&quot;0&quot;,&quot;credit&quot;:&quot;&quot;,&quot;camera&quot;:&quot;&quot;,&quot;caption&quot;:&quot;&quot;,&quot;created_timestamp&quot;:&quot;0&quot;,&quot;copyright&quot;:&quot;&quot;,&quot;focal_length&quot;:&quot;0&quot;,&quot;iso&quot;:&quot;0&quot;,&quot;shutter_speed&quot;:&quot;0&quot;,&quot;title&quot;:&quot;&quot;,&quot;orientation&quot;:&quot;0&quot;}\" data-image-title=\"Screen Shot 2021-10-15 at 8.36.39 PM\" data-image-description=\"\" data-medium-file=\"https://i1.wp.com/ndsmcobserver.com/wp-content/uploads/2021/10/1634330204-71900895f520822.png?fit=700%2C519&amp;ssl=1\" data-large-file=\"https://i1.wp.com/ndsmcobserver.com/wp-content/uploads/2021/10/1634330204-71900895f520822.png?fit=700%2C519&amp;ssl=1\" class=\"wp-image-234452 size-medium\" src=\"https://i1.wp.com/ndsmcobserver.com/wp-content/uploads/2021/10/1634330204-71900895f520822.png?resize=700%2C519&#038;ssl=1\" alt=\"\" width=\"700\" height=\"519\" srcset=\"https://i1.wp.com/ndsmcobserver.com/wp-content/uploads/2021/10/1634330204-71900895f520822.png?resize=700%2C519&amp;ssl=1 700w, https://i1.wp.com/ndsmcobserver.com/wp-content/uploads/2021/10/1634330204-71900895f520822.png?w=726&amp;ssl=1 726w\" sizes=\"(max-width: 700px) 100vw, 700px\" data-recalc-dims=\"1\" /><span class=\"media-credit\">Valeria Ortiz | The Observer</span> </div>\n",
    "<figcaption class=\"wp-caption-text\">In a Wednesday panel, community activists encouraged the University to give to local Black-owned businesses to support inclusion and business growth.</figcaption></figure>\n",
    "```\n",
    "\n",
    "166. From taking a look at the page source, we can see `<div class=\"content-header\">` that marks the article title and `<div class=\"content-body\">` that marks the start of the article text.\n",
    "\n",
    "167. And we can use a `Control-F`/`Command-F` search to see that the `content-body` class appears only once in the page.\n",
    "\n",
    "168. This means we can use `.find_all()` to extract this section of the page."
   ]
  },
  {
   "cell_type": "code",
   "execution_count": null,
   "id": "45335fdb",
   "metadata": {},
   "outputs": [],
   "source": [
    "# isolate HTML with content-body class\n",
    "article = soup.find_all(class_ = \"content-body\")\n",
    "\n",
    "# isolate article text\n",
    "article_text = article[0]\n",
    "\n",
    "# show article HTML\n",
    "article_text"
   ]
  },
  {
   "cell_type": "markdown",
   "id": "e7e4e882",
   "metadata": {},
   "source": [
    "169. Now we have the section of HTML with the article text isolated.\n",
    "\n",
    "```HTML\n",
    "<p>The Notre Dame Initiative on Race and Resilience hosted a panel Wednesday in DeBartolo Hall on Black civil rights in South Bend, featuring some of South Bend’s prominent community leaders.</p>\n",
    "<p>The panel, which intended to explore the immense social inequalities facing South Bend’s Black residents, included Trina Robinson, president of NAACP-South Bend; Regina Williams-Preston, president of Community Action for Education and former South Bend Common Council representative; Jorden Giger, co-founder of Black Lives Matter South Bend and Deacon Mel Tardy, deacon of St. Augustine Parish and an advising faculty at the University.</p>\n",
    "<figure id=\"attachment_234452\" class=\"wp-caption aligncenter\" style=\"width: 700px\"> <div class=\"media-credit-container aligncenter\" style=\"max-width: 710px\">\n",
    "<img data-attachment-id=\"234452\" data-permalink=\"https://ndsmcobserver.com/2021/10/south-bend-community-leaders-discuss-role-of-notre-dame-in-fight-for-black-civil-rights/screen-shot-2021-10-15-at-8-36-39-pm/\" data-orig-file=\"https://i1.wp.com/ndsmcobserver.com/wp-content/uploads/2021/10/1634330204-71900895f520822.png?fit=726%2C538&amp;ssl=1\" data-orig-size=\"726,538\" data-comments-opened=\"1\" data-image-meta=\"{&quot;aperture&quot;:&quot;0&quot;,&quot;credit&quot;:&quot;&quot;,&quot;camera&quot;:&quot;&quot;,&quot;caption&quot;:&quot;&quot;,&quot;created_timestamp&quot;:&quot;0&quot;,&quot;copyright&quot;:&quot;&quot;,&quot;focal_length&quot;:&quot;0&quot;,&quot;iso&quot;:&quot;0&quot;,&quot;shutter_speed&quot;:&quot;0&quot;,&quot;title&quot;:&quot;&quot;,&quot;orientation&quot;:&quot;0&quot;}\" data-image-title=\"Screen Shot 2021-10-15 at 8.36.39 PM\" data-image-description=\"\" data-medium-file=\"https://i1.wp.com/ndsmcobserver.com/wp-content/uploads/2021/10/1634330204-71900895f520822.png?fit=700%2C519&amp;ssl=1\" data-large-file=\"https://i1.wp.com/ndsmcobserver.com/wp-content/uploads/2021/10/1634330204-71900895f520822.png?fit=700%2C519&amp;ssl=1\" class=\"wp-image-234452 size-medium\" src=\"https://i1.wp.com/ndsmcobserver.com/wp-content/uploads/2021/10/1634330204-71900895f520822.png?resize=700%2C519&#038;ssl=1\" alt=\"\" width=\"700\" height=\"519\" srcset=\"https://i1.wp.com/ndsmcobserver.com/wp-content/uploads/2021/10/1634330204-71900895f520822.png?resize=700%2C519&amp;ssl=1 700w, https://i1.wp.com/ndsmcobserver.com/wp-content/uploads/2021/10/1634330204-71900895f520822.png?w=726&amp;ssl=1 726w\" sizes=\"(max-width: 700px) 100vw, 700px\" data-recalc-dims=\"1\" /><span class=\"media-credit\">Valeria Ortiz | The Observer</span> </div>\n",
    "<figcaption class=\"wp-caption-text\">In a Wednesday panel, community activists encouraged the University to give to local Black-owned businesses to support inclusion and business growth.</figcaption></figure>\n",
    "<p>The panelists offered their experiences and recommendations toward a stronger future for civil rights within the local community. They called for action to combat systemic racism — a historical pattern of denying opportunity to fair education, health and housing opportunities in South Bend.</p>\n",
    "<p>“He who wins the war gets to tell the story, so now we believe it all right. Here we are today seeing how that history gets uncovered,” Williams-Preston said.</p>\n",
    "```\n",
    "\n",
    "170. The next step is to create a list-like object with the sections of text that make up the article.\n",
    "\n",
    "171. For this web page, those sections are marked by paragraph (`<p>`) tags.\n",
    "\n",
    "172. We can use `.find_all(\"p\")` to create a list-like object with each `<p>` tag's content as a list item."
   ]
  },
  {
   "cell_type": "code",
   "execution_count": null,
   "id": "9ceda897",
   "metadata": {},
   "outputs": [],
   "source": [
    "# isolate paragraph tags\n",
    "article_paragraphs = article_text.find_all(\"p\")"
   ]
  },
  {
   "cell_type": "markdown",
   "id": "c3b6ddbe",
   "metadata": {},
   "source": [
    "173. The last step is to use a `for` loop to iterate over each paragraph in `article_paragraphs`, and use `.contents[]` to extract the paragraph contents and append it to a list.\n",
    "\n",
    "174. Since the output of `BeautifulSoup`'s `.contents[]` command is still a `BeautifulSoup` object type, we can use the `str()` function to convert the value to a string before appending it to a list."
   ]
  },
  {
   "cell_type": "code",
   "execution_count": null,
   "id": "d123bbf6",
   "metadata": {},
   "outputs": [],
   "source": [
    "# create empty list for paragraphs\n",
    "text_list = []\n",
    "\n",
    "# for loop that removes HTML markup for each paragraph or instance of \"p\" tag\n",
    "for paragraph in article_paragraphs:\n",
    "    paragraph = str(paragraph.contents[0])\n",
    "    text_list.append(paragraph)\n",
    "    \n",
    "# show list of plain-text paragraphs\n",
    "text_list"
   ]
  },
  {
   "cell_type": "markdown",
   "id": "8b918bec",
   "metadata": {},
   "source": [
    "175. Now that we have a working program, we could write each paragraph to a newly-created `.txt` file."
   ]
  },
  {
   "cell_type": "code",
   "execution_count": null,
   "id": "6bc5b007",
   "metadata": {},
   "outputs": [],
   "source": [
    "# create new txt file\n",
    "f = open(\"observer_text.txt\", \"a\")\n",
    "\n",
    "# for loop that removes HTML markup for each paragraph or instance of \"p\" tag\n",
    "for paragraph in article_paragraphs:\n",
    "    text = str(paragraph.contents[0])\n",
    "    f.write(text)"
   ]
  },
  {
   "cell_type": "markdown",
   "id": "38873f72",
   "metadata": {},
   "source": [
    "<blockquote>Q12: Describe in your own words how program for scraping unstructured text covered in the previous section of the lab works. The full program is also included below. What is happening in the different program components?</blockquote>"
   ]
  },
  {
   "cell_type": "code",
   "execution_count": null,
   "id": "d714e846",
   "metadata": {},
   "outputs": [],
   "source": [
    "page = requests.get(\"https://ndsmcobserver.com/2021/10/south-bend-community-leaders-discuss-role-of-notre-dame-in-fight-for-black-civil-rights/\")\n",
    "\n",
    "soup = BeautifulSoup(page.text, 'html.parser')\n",
    "\n",
    "article = soup.find_all(class_ = \"content-body\")\n",
    "\n",
    "article_text = article[0]\n",
    "\n",
    "article_paragraphs = article_text.find_all(\"p\")\n",
    "\n",
    "f = open(\"observer_text.txt\", \"a\")\n",
    "\n",
    "for paragraph in article_paragraphs:\n",
    "    text = str(paragraph.contents[0])\n",
    "    f.write(text)"
   ]
  },
  {
   "cell_type": "markdown",
   "id": "d1f0323f",
   "metadata": {},
   "source": [
    "<blockquote>Q13: Select another web page that includes unstructured text. From looking at the public web page, what text do you want to scrape from this web page (i.e. specific sections, multiple paragraphs, etc.)?<br><br>A few places to start for unstructured text:\n",
    "<ul>\n",
    "    <li><a href=\"https://ndsmcobserver.com/\">The Observer!</a> (or another news publication of your choosing)</li>\n",
    "    <li><a href=\"https://en.wikisource.org/wiki/Main_Page\">WikiSource</a>, a library of texts that are not covered by copyright</li>\n",
    "    <ul><li><a href=\"https://en.wikisource.org/wiki/Portal:State_of_the_Union_Speeches_by_United_States_Presidents\">U.S. Presidential State of the Union Addresses</a></li>\n",
    "        <li><a href=\"https://en.wikisource.org/wiki/Portal:Inaugural_Speeches_by_United_States_Presidents\">U.S. Presidential Inaugural Speeches</a></li></ul>\n",
    "    <li><a href=\"https://www.gutenberg.org/\">Project Gutenberg</a>, a library of literary works or texts that are not covered by copyright</li>\n",
    "    </ul>\n",
    "</blockquote>\n",
    "\n",
    "<blockquote>Q14: Take a look at the HTML for this page. What tags or other HTML components do you see around the section of the page you want to work with? For this question, we're thinking about how we will end up writing a program with <code>BeautifulSoup</code> to isolate a section of the web page.</blockquote>\n",
    "\n",
    "<blockquote>Q15: Develop an outline for a Python program that scrapes unstructured text from the web page you selected. A preliminary workflow:\n",
    "    <ul>\n",
    "        <li>Load URL and create BeautifulSoup object</li>\n",
    "        <li>Isolate section of HTML with your text (either directly or extract from list)</li>\n",
    "        <li>IF NEEDED: Isolate text elements (create list where each element is a section of text)</li>\n",
    "        <li>IF NEEDED: Extract text contents (isolate text from each section/paragraph)</li>\n",
    "        <li>Write text to TXT file</li>\n",
    "    </ul><br>NOTE: You do not need to have working code for all components of this program. That's where we're heading with the final project. At this point, we're focusing on the conceptual framework for the web scraping program. Start to build out code where you can, but think about the programming version of outlining a paper.</blockquote>\n",
    "    \n",
    "<blockquote>Q16: What challenges or roadblocks did you face working on Q15? What parts of the program do you understand/feel ready to develop at this point? What parts of the program are less clear?</blockquote>"
   ]
  },
  {
   "cell_type": "markdown",
   "id": "d9ac9f4a",
   "metadata": {},
   "source": [
    "## Oh, the Places You Could Go\n",
    "\n",
    "176. Once we have a `.txt` file, we could use Python to generate a list of words used in the article."
   ]
  },
  {
   "cell_type": "code",
   "execution_count": null,
   "id": "b01db66e",
   "metadata": {},
   "outputs": [],
   "source": [
    "# load file\n",
    "text = open(\"observer_text.txt\", 'r')\n",
    "\n",
    "# read file to string\n",
    "text = text.read()\n",
    "\n",
    "# create list of words\n",
    "wordlist = text.split()\n",
    "\n",
    "# show first 120 words in wordlist\n",
    "print((wordlist[0:120]))"
   ]
  },
  {
   "cell_type": "markdown",
   "id": "fbb05b7d",
   "metadata": {},
   "source": [
    "177. Then, we could use the list of words `wordlist` to count term frequency."
   ]
  },
  {
   "cell_type": "code",
   "execution_count": null,
   "id": "1be5f313",
   "metadata": {},
   "outputs": [],
   "source": [
    "# create empty list for word frequency\n",
    "wordfreq = []\n",
    "\n",
    "# append number of word appearanes to wordfreq list\n",
    "for word in wordlist:\n",
    "    wordfreq.append(wordlist.count(word))\n",
    "    \n",
    "# create nested list or lists with sublists that include word and number of appearances\n",
    "str(list(zip(wordlist, wordfreq)))"
   ]
  },
  {
   "cell_type": "markdown",
   "id": "754aecaf",
   "metadata": {},
   "source": [
    "178. Or, we could connect the terms and frequency count using a dictionary's key-value pairs."
   ]
  },
  {
   "cell_type": "code",
   "execution_count": null,
   "id": "474db091",
   "metadata": {},
   "outputs": [],
   "source": [
    "# convert lists to dictionary using dictionary comprehension\n",
    "word_count = {wordlist[i]: wordfreq[i] for i in range(len(wordlist))}\n",
    "\n",
    "# show dictionary\n",
    "word_count"
   ]
  },
  {
   "cell_type": "markdown",
   "id": "bdc10564",
   "metadata": {},
   "source": [
    "179. With normalized textual data, you could use Python to do things like:\n",
    "- count word frequency\n",
    "  * William J. Turkel and Adam Crymble, \"Counting Word Frequencies with Python,\" The Programming Historian 1 (2012), https://programminghistorian.org/en/lessons/counting-frequencies.\n",
    "- analyze keywords in contact using n-grams\n",
    "  * William J. Turkel and Adam Crymble, \"Keywords in Context (Using n-grams) with Python,\" The Programming Historian 1 (2012), https://programminghistorian.org/en/lessons/keywords-in-context-using-n-grams.\n",
    "\n",
    "180. Why go to all this  trouble? \n",
    "\n",
    "181. Computational text analysis or other kinds of natural language processing allow us to see patterns and detect change over time in large bodies of textual materials.\n",
    "\n",
    "182. A few projects that do this with speeches given by U.S. presidents:\n",
    "- [Google News Lab's Inaugurate project](http://inauguratespeeches.com/) that looks at the subjects of inauguration speeches\n",
    "- [\"The Language of the State of the Union,\"](https://www.theatlantic.com/politics/archive/2015/01/the-language-of-the-state-of-the-union/384575/) an interactive project from the *Atlantic*'s Ben Schmidt and Mitch Fraas that \"reveals how the words presidents use reflect the twists and turns of American history\"\n",
    "- [\"Mapping the State of the Union,\"](https://www.theatlantic.com/politics/archive/2015/01/mapping-the-state-of-the-union/384576/), also from Schmidt and Fraas, that \"shows the 1,410 different spots on the globe presidents have referenced in 224 speeches\"\n",
    "\n",
    "# Why did we do this?\n",
    "\n",
    "183. At this point, your brain probably hurts. Mine does.\n",
    "\n",
    "184. Why go to all the trouble of building a Python program when we could just copy and paste the text from an *Observer* article into a `.txt` file, or copy and paste data from Sports Reference into an Excel file or Google Sheet document? Why write a program when we could just remove the markup ourselves through manual data manipulation?\n",
    "\n",
    "185. That's a fair question.\n",
    "\n",
    "186. Scientific disciplines value research that can be reproduced and replicated. A 2013 editorial in *PLOS Computational Biology* outlines the value of reproducible computational research:\n",
    "\n",
    "- \"The importance of replication and reproducibility has recently been exemplified through studies showing that scientific papers commonly leave out experimental details essential for reproduction, studies showing difficulties with replicating published experimental results, an increase in retracted papers, and through a high number of failing clinical trials.\n",
    "\n",
    "- \"We want to emphasize that reproducibility is not only a moral responsibility with respect to the scientific field, but that a lack of reproducibility can also be a burden for you as an individual researcher. As an example, a good practice of reproducibility is necessary in order to allow previously developed methodology to be effectively applied on new data, or to allow reuse of code and results for new projects. In other words, good habits of reproducibility may actually turn out to be a time-saver in the longer run.\n",
    "\n",
    "- \"We further note that reproducibility is just as much about the habits that ensure reproducible research as the technologies that can make these processes efficient and realistic.\"\n",
    "\n",
    "<em>Sandve GK, Nekrutenko A, Taylor J, Hovig E (2013) Ten Simple Rules for Reproducible Computational Research. PLOS Computational Biology 9(10): e1003285. https://doi.org/10.1371/journal.pcbi.1003285.</em>\n",
    "\n",
    "187. Manually wrangling or manipulating data makes it difficult for colleagues (and future you) to understand how you got from point A to point B with your data. It also increases the likelihood of human error. In the *PLOS Computational Biology* article, one of the ten rules the authors outline is \"Avoid Manual Data Manipulation Steps.\"\n",
    "\n",
    "188. The Python workflows we're covering in this lab move in the direction of automating the data scraping/manipulation process, creating a template or workflow others could implement or adapt. "
   ]
  },
  {
   "cell_type": "markdown",
   "id": "9456a5ca",
   "metadata": {},
   "source": [
    "# Lab Notebook Questions\n",
    "\n",
    "Q1: Describe the general approach to loading a web page in Python using `requests` and isolating the section of HTML you need using `BeautifulSoup`. What are the basic steps involved in this workflow, thinking about what happens at the start of the program to isolate the section of HTML you would need to do further work with to extract the data you want to work with?\n",
    "\n",
    "Q2: Select another Wikipedia page that includes a table. From looking at the public web page, what data do you want to scrape from this web page (i.e. specific table, multiple tables, etc.)? What do you want the resulting data structure to look like (columns, rows, etc)?\n",
    "\n",
    "Q3: Take a look at the HTML for this page. What tags or other HTML components do you see around the section of the page you want to work with? For this question, we're thinking about how we will end up writing a program with <code>BeautifulSoup</code> to isolate a section of the web page.\n",
    "\n",
    "Q4: Develop an outline for a Python program that scrapes data from the web page you selected. \n",
    "\n",
    "A preliminary workflow:\n",
    "- Load URL and create BeautifulSoup object\n",
    "- Isolate section of HTML with your table (either directly or extract from list)\n",
    "- Isolate table row elements (create list where each element is a table row)\n",
    "- Extract contents from row (isolate the pieces of information from each row)\n",
    "- Create Pandas DataFrame\n",
    "- Write extracted row contents to CSV file\n",
    "\n",
    "NOTE: You do not need to have working code for all components of this program. That's where we're heading with the final project. At this point, we're focusing on the conceptual framework for the web scraping program. Start to build out code where you can, but think about the programming version of outlining a paper.\n",
    "\n",
    "Q5: What challenges or roadblocks did you face working on Q4? What parts of the program do you understand/feel ready to develop at this point? What parts of the program are less clear?\n",
    "\n",
    "Q6: Describe in your own words how the url generation program covered in the previous section of the lab works. The full program is also included below. What is happening in the different program components?\n",
    "\n",
    "Q7: Select another Sports Reference web page that follows this pattern and write a program that generates a list of full URLs for that team/organization.\n",
    "\n",
    "A few places to start:\n",
    "- Baseball Reference season web pages have the following URL pattern:\n",
    "  * `https://www.baseball-reference.com/teams/`, `TEAM ABBREVIATION`, `SEASON`, `.shtml`\n",
    "- Basketball Reference season web pages have a similar pattern for NBA teams:\n",
    "  * `https://www.basketball-reference.com/teams/`, `TEAM ABBREVIATION`, `SEASON`, `.html`\n",
    "- Basketball Reference uses a slightly different pattern for its WNBA pages:\n",
    "  * `https://www.basketball-reference.com/wnba/teams`, `TEAM ABBREVIATION`, `SEASON`, `.html`\n",
    "- College Basketball Reference pages also follow a pattern: \n",
    "  * `https://www.sports-reference.com/cbb/schools`, `SCHOOL ABBREVIATION`, `SEASON`, `.html`\n",
    "- For Hockey Reference pages: \n",
    "  * `https://www.hockey-reference.com/teams/`, `TEAM ABBREVIATION`, `SEASON`, `.html`\n",
    "- Football Reference pages follow the same pattern for men's and women's teams:\n",
    "  * `https://fbref.com/en/squads/`, `SQUAD ID`, `SEASON`, `TEAM NAME`\n",
    "- Pro Football Reference pages also have a pattern: \n",
    "  * `https://www.pro-football-reference.com/teams/`, `TEAM ABBREVIATION`, `SEASON`, `.htm`\n",
    "\n",
    "NOTE: You DO NOT need to write a program that scrapes data from these pages for this question. The purpose of this question is to be able to programmatically generate a list of URLs that cover a date range. \n",
    "\n",
    "Q8: Describe the general approach to loading a web page in Python using `pd.read_html()`. What are the basic steps involved in this workflow, thinking about what happens to identify/isolate the specific table you want to work with?\n",
    "\n",
    "Q9: For Q7, you generated a list of Sports Reference URLs covering a time span for a specific team/organization. Select three years and web pages from that list- something early in the time period covered, something in the middle of the time period covered, and something toward the end of the time period covered.\n",
    "\n",
    "Do these pages have the same pattern in terms of number and order of tables?\n",
    "\n",
    "For one of these pages, what table or tables on these pages would you want to be able to extract and work with?\n",
    "\n",
    "Q10: Develop an outline for a Python program that uses `pd.read_html()` to scrape data from one of the web pages you select in Q9.\n",
    "\n",
    "A preliminary workflow:\n",
    "- Use `pd.read_html()` to create a list of DataFrame objects\n",
    "- Identify which DataFrame object in the list is the table you want to work with\n",
    "- Isolate the list element to create a new DataFrame\n",
    "- Write the new DataFrame to a CSV file\n",
    "\n",
    "NOTE: For Q4, you did not need to have working code for all components of this program. Since `pd.read_html()` has an easier learning curve, let's see if we can flesh out more of this program. But if you run into problems, it's okay to focus on the conceptual framework for the web scraping program. Start to build out code where you can, but think about the programming version of outlining a paper.\n",
    "\n",
    "ANOTHER NOTE: For many Sports Reference pages, tables further down the page are buried in HTML comments. These tables will not show up when you use `pd.read_html()`. We can come back to these \"hidden tables\" in the final project, but for now, focus on the tables that do show up when you use `pd.read_html()`.\n",
    "\n",
    "Q11: What challenges or roadblocks did you face working on Q10? What parts of the program do you understand and/or were able to develop? What parts of the program are less clear?\n",
    "\n",
    "Q12: Describe in your own words how program for scraping unstructured text covered in the previous section of the lab works. The full program is also included below. What is happening in the different program components?\n",
    "\n",
    "Q13: Select another web page that includes unstructured text. From looking at the public web page, what text do you want to scrape from this web page (i.e. specific sections, multiple paragraphs, etc.)?\n",
    "\n",
    "A few places to start for unstructured text:\n",
    "- [The Observer!](https://ndsmcobserver.com) (or another news publication of your choosing)\n",
    "- [WikiSource](https://en.wikisource.org/wiki/Main_Page)(a library of texts that are not covered by copyright)\n",
    "  * [U.S. Presidential State of the Union Addresses](https://en.wikisource.org/wiki/Portal:State_of_the_Union_Speeches_by_United_States_Presidents)\n",
    "  * [U.S. Presidential Inaugural Speeches](https://en.wikisource.org/wiki/Portal:Inaugural_Speeches_by_United_States_Presidents)\n",
    "- [Project Gutenberg](https://www.gutenberg.org) (a library of literary works or texts that are not covered by copyright)\n",
    "\n",
    "Q14: Take a look at the HTML for this page. What tags or other HTML components do you see around the section of the page you want to work with? For this question, we're thinking about how we will end up writing a program with `BeautifulSoup` to isolate a section of the web page.\n",
    "\n",
    "Q15: Develop an outline for a Python program that scrapes unstructured text from the web page you selected. \n",
    "\n",
    "A preliminary workflow:\n",
    "- Load URL and create BeautifulSoup object\n",
    "- Isolate section of HTML with your text (either directly or extract from list)\n",
    "- IF NEEDED: Isolate text elements (create list where each element is a section of text)\n",
    "- IF NEEDED: Extract text contents (isolate text from each section/paragraph)\n",
    "- Write text to TXT file\n",
    "\n",
    "NOTE: You do not need to have working code for all components of this program. That's where we're heading with the final project. At this point, we're focusing on the conceptual framework for the web scraping program. Start to build out code where you can, but think about the programming version of outlining a paper.\n",
    "\n",
    "Q16: What challenges or roadblocks did you face working on Q15? What parts of the program do you understand/feel ready to develop at this point? What parts of the program are less clear?"
   ]
  },
  {
   "cell_type": "markdown",
   "id": "9750e9d9",
   "metadata": {},
   "source": [
    "# Final Project Next Steps\n",
    "\n",
    "189. Our work in this lab is designed to lay the foundation and serve as a springboard for final project work.\n",
    "\n",
    "190. Specifically, Q4, Q10, and Q13 ask you to develop an outline for web scraping programs using `BeautifulSoup` and `pd.read_html()`.\n",
    "\n",
    "191. Those questions (and other work for this lab) are the starting place for the final project.\n",
    "\n",
    "192. The final project for this course involves a web-scraping project written in Python. Specifically, the final project allows you to select a web page (or web pages) and write a Python program (or programs) that downloads select content from that web page as a plain-text file (`CSV`, `TXT`, etc). That content could be paragraphs of text, tables of data, etc. \n",
    "\n",
    "193. Successful final projects will include two main components:\n",
    "- a well-documented, working Python program written in Jupyter Notebooks\n",
    "- a written reflection (minimum 300 words) that documents how you approached the final project/what you wanted to accomplish via the final project, resources consulted, how you handled challenges you encountered, key takeaways, etc.\n",
    "\n",
    "194. That reflection can come at the end of the Jupyter Notebook or be embedded throughout the Jupyter Notebook, if you want to approach authoring the notebook as a type of tutorial or \"report\".\n",
    "\n",
    "195. Expect to spend at least 10 hours working on the final project. That includes brainstorming, meeting with instructor/TAs, in-class work time, etc. If you’re working on a project that is not going to take that much time, think about how to add complexity or take on another smaller scale project.\n",
    "\n",
    "196. Contact the instructor with questions.\n",
    "\n",
    "197. So where to start? \n",
    "\n",
    "198. The instructor and TAs are going to move quickly on getting you feedback on this lab. \n",
    "\n",
    "199. But your work in Q4, Q10, and Q13 should be the starting place for how you think about and approach the final project.\n",
    "\n",
    "200. Specifically, think about the kinds of web content you were able to scrape for these questions and how you might further develop, refine, or expand your work.\n",
    "\n",
    "201. For example, these questions asked you to develop an outline for specific types of webscraping programs. \n",
    "\n",
    "202. One next step for the final project could be selecting 1-2 of these programs and further developing or refining the code.\n",
    "\n",
    "203. Another next step (especially if you were able to develop working programs for these questions) is to think about how you could expand or extend these workflows to multiple web pages or other web data sources.\n",
    "\n",
    "204. A third option for next steps would involve thinking expansively about how you could apply the concepts and approaches covered in this lab to a different type of data source/structure. \n",
    "\n",
    "205. So in the interim, as you're waiting for feedback on this lab, think about where you could go next with expanding and extending your work in this lab, and start to flesh out or develop some of your own ideas about where you put your time and effort as you work on the final project.\n",
    "\n",
    "206. Final project timeline:\n",
    "- By end of Week #14 (11/23, Thanksgiving Holiday): Web scraping lab due on Canvas\n",
    "- Week #15 (11/30, 12/2): In-class final project work time\n",
    "- By end of Week #15: Final project update/shareout due on Canvas\n",
    "- By end of day Friday 12/10 (Week #16, last week of classes/start of exam week): Final project due on Canvas by end of day\n",
    "\n",
    "207. Again, contact the instructor with questions."
   ]
  }
 ],
 "metadata": {
  "kernelspec": {
   "display_name": "Python 3",
   "language": "python",
   "name": "python3"
  },
  "language_info": {
   "codemirror_mode": {
    "name": "ipython",
    "version": 3
   },
   "file_extension": ".py",
   "mimetype": "text/x-python",
   "name": "python",
   "nbconvert_exporter": "python",
   "pygments_lexer": "ipython3",
   "version": "3.8.8"
  }
 },
 "nbformat": 4,
 "nbformat_minor": 5
}
