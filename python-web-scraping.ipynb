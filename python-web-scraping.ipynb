{
 "cells": [
  {
   "cell_type": "markdown",
   "id": "b5611c50",
   "metadata": {},
   "source": [
    "# Data Scraping in Python\n",
    "\n",
    "<a href=\"http://creativecommons.org/licenses/by-nc/4.0/\" rel=\"license\"><img style=\"border-width: 0;\" src=\"https://i.creativecommons.org/l/by-nc/4.0/88x31.png\" alt=\"Creative Commons License\" /></a>\n",
    "This tutorial is licensed under a <a href=\"http://creativecommons.org/licenses/by-nc/4.0/\" rel=\"license\">Creative Commons Attribution-NonCommercial 4.0 International License</a>.\n",
    "\n",
    "## Lab Overview\n",
    "\n",
    "This lab provides an introduction and overview to parsing HTML in Python using the `beautiful soup` package.\n",
    "\n",
    "## Acknowledgements\n",
    "\n",
    "The author consulted the following materials when building this lab:\n",
    "- Lisa Tagliaferri, \"How to Scrape Web Pages With Beautiful Soup and Python 3\" *Digital Ocean* (20 March 2019). https://www.digitalocean.com/community/tutorials/how-to-scrape-web-pages-with-beautiful-soup-and-python-3\n",
    "- Jeri Wieringa, \"Intro to Beautiful Soup,\" *The Programming Historian* 1 (2012), https://doi.org/10.46430/phen0008.\n",
    "- Martin Breuss, \"Beautiful Soup: Build a Web Scraper With Python\" *Real Python*. https://realpython.com/beautiful-soup-web-scraper-python/\n",
    "- DataQuest, \"Tutorial: Web Scraping With Python Using Beautiful Soup\" *DataQuest* (2 September 2020). https://www.dataquest.io/blog/web-scraping-tutorial-python/\n",
    "\n",
    "The introductory sections of this lab are based on and adapted from:\n",
    "- Lisa Tagliaferri, \"How to Scrape Web Pages With Beautiful Soup and Python 3\" *Digital Ocean* (20 March 2019). https://www.digitalocean.com/community/tutorials/how-to-scrape-web-pages-with-beautiful-soup-and-python-3\n",
    "\n",
    "# Table of Contents\n",
    "\n",
    "- [Introduction to Beautiful Soup](#introduction-to-beautiful-soup)\n",
    "- [Installing Beautiful Soup](#installing-beautiful-soup)\n",
    "- [Loading URLs in Python](#loading-urls-in-python)\n",
    "- [Creating a Beautiful Soup Object](#creating-a-beautiful-soup-object)\n",
    "- [Identifying HTML Tables](#identifying-html-tables)\n",
    "- [More Adventures in Reading Technical Documentation](#more-adventures-in-reading-technical-documentation)\n",
    "  * [What is Digital Ocean](#what-is-digital-ocean)\n",
    "  * [Digital Ocean's Education Community](#digital-oceans-education-community)\n",
    "- [Additional Lab Notebook Questions](#additional-lab-notebook-questions)\n",
    "- [Lab Notebook Questions](#lab-notebook-questions)\n",
    "\n",
    "[Link to lab notebook template](https://docs.google.com/document/d/1_bbenDLXoWf6N-ZPZrjTvWUcCjPCoCayxv1AyQDR2qU/copy) (Google Doc, ND users)\n",
    "\n",
    "# Introduction to Beautiful Soup\n",
    "\n",
    "1. What is Beautiful Soup? \n",
    "\n",
    "2. \"Beautiful Soup is a Python library for pulling data out of HTML and XML files. It works with your favorite parser to provide idiomatic ways of navigating, searching, and modifying the parse tree. It commonly saves programmers hours or days of work\" ([Beautiful Soup Documentation](https://www.crummy.com/software/BeautifulSoup/bs4/doc/))\n",
    "\n",
    "3. The library name is an allusion to the song Lewis Carroll character the Mock Turtle sings in Chapter 10 of *Alice's Adventures in Wonderland*.\n",
    "\n",
    "4. `Beautiful Soup` uses the structure of markup language documents (i.e. HTML, XML, etc) to extract information we can work with in a Python programming environment.\n",
    "\n",
    "5. In this lab, we will be focusing on using `Beautiful Soup` to parse and scrape web pages built using HTML and CSS.\n",
    "\n",
    "# Installing Beautiful Soup\n",
    "\n",
    "6. We can install `Beautiful Soup` at the command line using a terminal or shell in our Python environment.\n",
    "\n",
    "7. To install `Beautiful Soup` using `pip`:\n",
    "- `pip install beautifulsoup4`\n",
    "\n",
    "8. For more on installing modules using `pip`: Fred Gibbs, \"Installing Python Modules with pip,\" The Programming Historian 2 (2013), https://doi.org/10.46430/phen0029.\n",
    "\n",
    "9. We also can install the `lxml` library to help with parsing HTML.\n",
    "\n",
    "10. To install `lxml` using `pip`:\n",
    "- `pip install lxml`\n",
    "\n",
    "# Loading URLs in Python\n",
    "\n",
    "11. We will be using the `requests` library to load URLs in Python.\n",
    "\n",
    "12. This library is already built into Python and does not require additional installation.\n",
    "\n",
    "13. Core syntax for using the `requests` library to load a URL:"
   ]
  },
  {
   "cell_type": "raw",
   "id": "68645336",
   "metadata": {},
   "source": [
    "# import requests\n",
    "import requests\n",
    "\n",
    "# load url using get requests.get() method\n",
    "page = requests.get('URL GOES HERE')"
   ]
  },
  {
   "cell_type": "markdown",
   "id": "f7b5375b",
   "metadata": {},
   "source": [
    "# Creating a Beautiful Soup Object\n",
    "\n",
    "14. Once we have a URL loaded in Python, we want to be able to use `BeautifulSoup` to parse the web page's HTML components.\n",
    "\n",
    "15. We can do that by creating a BeautifulSoup object.\n",
    "\n",
    "16. Core syntax:"
   ]
  },
  {
   "cell_type": "raw",
   "id": "0e79c9ab",
   "metadata": {},
   "source": [
    "# import beautifulsoup\n",
    "from bs4 import BeautifulSoup\n",
    "\n",
    "# create beautifulsoup object\n",
    "soup = BeautifulSoup(page.text, 'html.parser')"
   ]
  },
  {
   "cell_type": "markdown",
   "id": "f3b473ca",
   "metadata": {},
   "source": [
    "17. Putting that all together, the core syntax for loading a URL and creating a BeautifulSoup object:"
   ]
  },
  {
   "cell_type": "raw",
   "id": "b6aad1b2",
   "metadata": {},
   "source": [
    "# import requests\n",
    "import requests\n",
    "\n",
    "# import beautifulsoup\n",
    "from bs4 import BeautifulSoup\n",
    "\n",
    "# load url using get requests.get() method\n",
    "page = requests.get('URL GOES HERE')\n",
    "\n",
    "soup = BeautifulSoup(page.text, 'html.parser')"
   ]
  },
  {
   "cell_type": "markdown",
   "id": "ff847cc8",
   "metadata": {},
   "source": [
    "18. Now, we are ready to parse the web page's HTML using `BeautifulSoup`.\n",
    "\n",
    "# Identifying HTML Tables\n",
    "\n",
    "19. HTML uses a few core tags for web pages that include tables.\n",
    "- `table` (marks the start and end of a table\n",
    "- `tbody` (marks the start and end of the table body)\n",
    "- `tr` (marks the start and end of each table row)\n",
    "- `th` (marks the start and end of each column in the first row of the table)\n",
    "- `td` (marks the start and end of each column after the first row of the table)\n",
    "\n",
    "20. How we might see those tags combined in a table structure:"
   ]
  },
  {
   "cell_type": "raw",
   "id": "4ad23167",
   "metadata": {},
   "source": [
    "<table>\n",
    " <tr>\n",
    "  <th>First Column Header</th>\n",
    "  <th>Second Column Header</th>\n",
    "  <th>Third Column Header</th>\n",
    " </tr>\n",
    " <tr>\n",
    "  <td>Data in first column/first row</td>\n",
    "  <td>Data in second column/first row</td>\n",
    "  <td>Data in third column/first row</td>\n",
    " </tr>\n",
    " <tr>\n",
    "  <td>Data in first column/second row</td>\n",
    "  <td>Data in second column/second row</td>\n",
    "  <td>Data in third column/second row</td>\n",
    " </tr>\n",
    "</table>"
   ]
  },
  {
   "cell_type": "markdown",
   "id": "72faae73",
   "metadata": {},
   "source": [
    "21. The output of that HTML would look like:\n",
    "\n",
    "<table>\n",
    " <tr>\n",
    "  <th>First Column Header</th>\n",
    "  <th>Second Column Header</th>\n",
    "  <th>Third Column Header</th>\n",
    " </tr>\n",
    " <tr>\n",
    "  <td>Data in first column/first row</td>\n",
    "  <td>Data in second column/first row</td>\n",
    "  <td>Data in third column/first row</td>\n",
    " </tr>\n",
    " <tr>\n",
    "  <td>Data in first column/second row</td>\n",
    "  <td>Data in second column/second row</td>\n",
    "  <td>Data in third column/second row</td>\n",
    " </tr>\n",
    "</table>\n",
    "\n",
    "22. Additional attributes like `align`, `style`, etc. can be used with many of these tags.\n",
    "\n",
    "# More Adventures in Reading Technical Documentation\n",
    "\n",
    "23. Rather than work through a lab procedure that includes step-by-step instructions and guidance designed for students in this class, we're going to get some experience using an online  tutorial written for a general audience.\n",
    "\n",
    "24. Tutorial we will be using: Lisa Tagliaferri, \"How to Scrape Web Pages With Beautiful Soup and Python 3\" *Digital Ocean* (20 March 2019). https://www.digitalocean.com/community/tutorials/how-to-scrape-web-pages-with-beautiful-soup-and-python-3\n",
    "\n",
    "25. Open the Digital Ocean [\"How to Scrape Web Pages With Beautiful Soup and Python 3\"](https://www.digitalocean.com/community/tutorials/how-to-scrape-web-pages-with-beautiful-soup-and-python-3) tutorial in another browser window.\n",
    "\n",
    "## What is Digital Ocean?\n",
    "\n",
    "26. \"DigitalOcean, Inc. is an American cloud infrastructure provider headquartered in New York City with data centers worldwide. DigitalOcean provides developers cloud services that help to deploy and scale applications that run simultaneously on multiple computers\" ([Wikipedia](https://en.wikipedia.org/wiki/DigitalOcean))\n",
    "\n",
    "27. DigitalOcean was founded in 2011 and was part of TechStar's 2012 startup accelerator program.\n",
    "\n",
    "28. Initial rounds of funding came from IA Ventures, the Fortress Investment Group, Access Industries, and Andreessen Horowitz.\n",
    "\n",
    "29. The company's IPO took place in March 2021.\n",
    "\n",
    "## Digital Ocean's Education Community\n",
    "\n",
    "30. In additional to commercial products and enterprise solutions, DigitalOcean includes robust community forums and staff members dedicated to writing [open educational resources](https://www.digitalocean.com/community/tutorials), like the tutorial we'll be using.\n",
    "\n",
    "31. This tutorial was written by [Dr. Lisa Tagliaferri](https://twitter.com/lisaironcutter), who worked as member of the company's Community and Education team before starting as [Sourcegraph's](https://t.co/aQZBLY1hhK?amp=1) Director of Developer Education in February 2021.\n",
    "\n",
    "32. The Digital Ocean tutorial walks through scraping data from National Gallery of Art web pages that include artist names and biographical information."
   ]
  },
  {
   "cell_type": "markdown",
   "id": "5f555452",
   "metadata": {},
   "source": [
    "<blockquote>Q1: Include code + comments that document your experience working through the Digital Ocean tutorial.</blockquote>\n",
    "\n",
    "<blockquote>Q2: Reflect on your experience working through the Digital Ocean tutorial. What challenges did you face? How did you approach or solve them? How was this experience different than previous labs?</blockquote>"
   ]
  },
  {
   "cell_type": "markdown",
   "id": "d568998b",
   "metadata": {},
   "source": [
    "33. Additional tutorials you are welcome to consult as needed:\n",
    "- Jeri Wieringa, \"Intro to Beautiful Soup,\" *The Programming Historian* 1 (2012), https://doi.org/10.46430/phen0008.\n",
    "- Martin Breuss, \"Beautiful Soup: Build a Web Scraper With Python\" *Real Python*. https://realpython.com/beautiful-soup-web-scraper-python/\n",
    "- DataQuest, \"Tutorial: Web Scraping With Python Using Beautiful Soup\" *DataQuest* (2 September 2020). https://www.dataquest.io/blog/web-scraping-tutorial-python/\n",
    "\n",
    "# File Methods in Python\n",
    "\n",
    "33. One of the final steps in the DigitalOcean tutorial is saving the extracted or scraped content to a CSV file.\n",
    "\n",
    "34. Before you work with BeautifulSoup on your own, let's talk more about how Python handles creating, reading, and writing files.\n",
    "\n",
    "35. Specifically, we will be focusing on a few key Python functions for working with files.\n",
    "- `open()`\n",
    "- `write()`\n",
    "\n",
    "## `open()`\n",
    "\n",
    "36. The `open()` function lets us open an existing file or create a new file in Python.\n",
    "\n",
    "37. For either version of `open()` (new file or existing file), we need to specify the file name (with the file type extension) and access mode.\n",
    "\n",
    "38. Core syntax for opening an existing file:"
   ]
  },
  {
   "cell_type": "raw",
   "id": "59c62a8e",
   "metadata": {},
   "source": [
    "open(file_name.extension, access_mode)"
   ]
  },
  {
   "cell_type": "markdown",
   "id": "b6bf29be",
   "metadata": {},
   "source": [
    "39. The file type extension is the string of characters that follows the period after the file name.\n",
    "\n",
    "40. Examples include `.py`, `.csv`, `.txt`, etc.\n",
    "\n",
    "41. The types of file handling functions we are covering in this lab will generally only support reading and writing plain-text (or machine-readable) files.\n",
    "\n",
    "## Access Modes\n",
    "\n",
    "42. The access mode parameter specifies the types of modifications that can be made to the file. It can also specify the type of data or information contained in the file.\n",
    "\n",
    "43. Possible access mode parameters:\n",
    "\n",
    "<table>\n",
    " <tr>\n",
    "  <th>Parameter</th>\n",
    "  <th>Name</th>\n",
    "  <th>Description</th>\n",
    " </tr>\n",
    " <tr>\n",
    "  <td><code>\"r\"</code></td>\n",
    "  <td>Read</td>\n",
    "  <td>Opens a file for reading; also the default value</td>\n",
    " </tr>\n",
    " <tr>\n",
    "  <td><code>\"a\"</code></td>\n",
    "  <td>Append</td>\n",
    "  <td>Opens the file for appending new or additional information; Creates the file if it does not already exist</td>\n",
    " </tr>\n",
    " <tr>\n",
    "  <td><code>\"w\"</code></td>\n",
    "  <td>Write</td>\n",
    "  <td>Opens the file for writing new information; Creates the file if it does not already exist</td>\n",
    " </tr>\n",
    " <tr>\n",
    "  <td><code>\"x\"</code></td>\n",
    "  <td>Create</td>\n",
    "  <td>Creates the file if it does not already exist</td>\n",
    " </tr>\n",
    " </table>\n",
    "\n",
    "44. Additionally, we can specify the type of data contained in the file, or how Python should handle the information in the file.\n",
    "\n",
    "<table>\n",
    " <tr>\n",
    "  <th>Parameter</th>\n",
    "  <th>Name</th>\n",
    "  <th>Description</th>\n",
    " </tr>\n",
    " <tr>\n",
    "  <td><code>\"t\"</code></td>\n",
    "  <td>Text</td>\n",
    "  <td>Treats file as text data; also the default value</td>\n",
    " </tr>\n",
    " <tr>\n",
    "  <td><code>\"b\"</code></td>\n",
    "  <td>Binary</td>\n",
    "  <td>Treats the file as binary data</td>\n",
    " </tr>\n",
    " </table>\n",
    " \n",
    " ### `open()` examples"
   ]
  },
  {
   "cell_type": "raw",
   "id": "175f705d",
   "metadata": {},
   "source": [
    " # opens an existing text (TXT) file with overwrite permission\n",
    " f = open(\"existing_file.txt\", \"w\")"
   ]
  },
  {
   "cell_type": "raw",
   "id": "fe891146",
   "metadata": {},
   "source": [
    " # opens an existing CSV file and reads the content\n",
    " f = open(\"existing_file.csv\", \"r\")"
   ]
  },
  {
   "cell_type": "raw",
   "id": "f62785a2",
   "metadata": {},
   "source": [
    " # creates new txt file with write permission\n",
    " f = open(\"new_file.txt\", \"w\")"
   ]
  },
  {
   "cell_type": "raw",
   "id": "ef6584a0",
   "metadata": {},
   "source": [
    " # creates new CSV file without write privileges\n",
    " f = open(\"new_file.csv\", \"x\")"
   ]
  },
  {
   "cell_type": "markdown",
   "id": "edd342a2",
   "metadata": {},
   "source": [
    "45. If you these examples, you will see a newly-created file appear in your environment or project workspace. \n",
    "\n",
    "## `write()`\n",
    "\n",
    "46. Now that we have a newly-created file in Python, we can use the `write()` function to ***write*** content to that file.\n",
    "\n",
    "47. Let's say we want to create a `.txt` (plain text) file and write a string to that file.\n",
    "\n",
    "48. We can do that using `write()`.\n",
    "\n",
    "49. An example:"
   ]
  },
  {
   "cell_type": "code",
   "execution_count": null,
   "id": "c165ad21",
   "metadata": {},
   "outputs": [],
   "source": [
    "# creates new txt file with write permission\n",
    "f = open(\"new_file.txt\", \"w\")\n",
    "\n",
    "# writes string to new file\n",
    "f.write(\"Hello world!\")\n",
    "\n",
    "# closes file\n",
    "f.close()"
   ]
  },
  {
   "cell_type": "markdown",
   "id": "c46e7029",
   "metadata": {},
   "source": [
    "50. NOTE: It is ***very important*** to `close()` the file once you are done writing content or making modifications.\n",
    "\n",
    "51. Another example where we have assigned a string to a variable and write the variable to the `.txt` file:"
   ]
  },
  {
   "cell_type": "code",
   "execution_count": null,
   "id": "6aabac77",
   "metadata": {},
   "outputs": [],
   "source": [
    "# creates new txt file with write permission\n",
    "f = open(\"new_file.txt\", \"w\")\n",
    "\n",
    "# assigns string to variable\n",
    "hello_world = \"Hello world!\"\n",
    "\n",
    "# writes string variable to new file\n",
    "f.write(hello_world)\n",
    "\n",
    "# closes file\n",
    "f.close()"
   ]
  },
  {
   "cell_type": "markdown",
   "id": "5be45e2e",
   "metadata": {},
   "source": [
    "52. Open the `new_file.txt` file to see the newly-added content.\n",
    "\n",
    "53. For more on file handling methods in Python:\n",
    "- [Python File Handling, W3Schools](https://www.w3schools.com/python/python_file_handling.asp)\n",
    "- [Python File Write, W3Schools](https://www.w3schools.com/python/python_file_write.asp)\n",
    "- [Python open() Function](https://www.w3schools.com/python/ref_func_open.asp)\n",
    "\n",
    "## `open()`, `write()`, and `CSV` files\n",
    "\n",
    "54. In the Digital Ocean tutorial, we are taking artist names and biographical information and writing that to a `CSV` file.\n",
    "\n",
    "55. `CSV` stands for comma-separated values.\n",
    "\n",
    "56. `CSV` files are the plain-text, machine-readable file type for tabular data (table data, or data in a spreadsheet structure)\n",
    "\n",
    "57. For example, a table that looks like this in a spreadsheet program like Excel or Google Sheets:\n",
    "<table>\n",
    " <tr>\n",
    "  <th>Parameter</th>\n",
    "  <th>Name</th>\n",
    "  <th>Description</th>\n",
    " </tr>\n",
    " <tr>\n",
    "  <td><code>\"t\"</code></td>\n",
    "  <td>Text</td>\n",
    "  <td>Treats file as text data; also the default value</td>\n",
    " </tr>\n",
    " <tr>\n",
    "  <td><code>\"b\"</code></td>\n",
    "  <td>Binary</td>\n",
    "  <td>Treats the file as binary data</td>\n",
    " </tr>\n",
    " </table>\n",
    "\n",
    "58. Would look like this as a CSV:\n"
   ]
  },
  {
   "cell_type": "raw",
   "id": "4002b095",
   "metadata": {},
   "source": [
    "Parameter, Name, Description\n",
    "\"t\", Text, Treats file as text data; also the default value\n",
    "\"b\", Binary, Treats the file as binary data"
   ]
  },
  {
   "cell_type": "markdown",
   "id": "942ba689",
   "metadata": {},
   "source": [
    "59. So when writing data to a `CSV` file, we need Python to understand the row structure and comma-separated syntax for the file type.\n",
    "\n",
    "60. Specifically, we need Python to understand we are writing individual rows of data to the file, and we need Python to understand that those rows consist of columns of data separated by columns.\n",
    "\n",
    "### The CSV Module\n",
    "\n",
    "61. Thankfully, Python has a built-in [`CSV` module](https://docs.python.org/3/library/csv.html) with specialized functions designed to help with writing `CSV` files.\n",
    "\n",
    "#### A Quick Detour Into Packages, Modules, and Libraries\n",
    "\n",
    "62. We're now starting to encounter language like `package`, `module`, and `library` when working in Python.\n",
    "\n",
    "63. All of these terms refer to external Python programs that we can use in our program without having to recreate the entire original code.\n",
    "\n",
    "64. We can think of these resources as \"expansion packs\" for Python that expand or extend the programming language's built-in functionality.\n",
    "\n",
    "65. A few preliminary definitions...\n",
    "\n",
    "66. A ***module*** is a Python file that typically includes specialized functions and variables. \n",
    "- Modules typically have `.py` file extensions.\n",
    "\n",
    "67. A single or simple directory of modules is called a ***package***. \n",
    "- Packages are typically a simple directory with multiple modules.\n",
    "- They include an `__init__.py` file that provides additional details on how to initialize the package and access its modules.\n",
    "- Packages can also contain sub-packages\n",
    "\n",
    "68. A ***library*** includes blocks of code that can be reused within a program. Libraries are a collection of modules.\n",
    "- Libraries can include methods we call using period-method name (`.method_name()`)\n",
    "- They have a much more complex directory/sub-directory/etc structure than packages\n",
    "\n",
    "69. Some modules, packages, and libraries are built-in to Python and require no additional installation.\n",
    "\n",
    "70. Others have to be installed (typically at the command line, or in the terminal) before you can import and use them in a program.\n",
    "\n",
    "#### Back to the `CSV` Module\n",
    "\n",
    "71. We'll spend a lot more time with the `CSV` module in a future lab.\n",
    "\n",
    "72. For now, we'll focus on how we can use the module to create and write `CSV` files.\n",
    "\n",
    "73. We can create a file using the `open()` function covered in a previous section of the lab.\n"
   ]
  },
  {
   "cell_type": "raw",
   "id": "f8e05ee5",
   "metadata": {},
   "source": [
    " # create new CSV file with write privileges\n",
    " f = open(\"new_file.csv\", \"w\")"
   ]
  },
  {
   "cell_type": "markdown",
   "id": "97ea0c31",
   "metadata": {},
   "source": [
    "74. The next step is to create the `writer` object using the `csv.writer()` function."
   ]
  },
  {
   "cell_type": "raw",
   "id": "1f4e56f4",
   "metadata": {},
   "source": [
    "# create writer object\n",
    "outputWriter = csv.writer(f)"
   ]
  },
  {
   "cell_type": "markdown",
   "id": "1826f7b6",
   "metadata": {},
   "source": [
    "75. Next, we can use the `.writerow()` method to write individual lists as rows in our `CSV` file."
   ]
  },
  {
   "cell_type": "raw",
   "id": "41a22309",
   "metadata": {},
   "source": [
    "# write first row\n",
    "outputWriter.writerow(['Parameter', 'Name', 'Description')]\n",
    "\n",
    "# write second row\n",
    "outputWriter.writerow(['t', 'Text', 'Treats file as text data; also the default value'])\n",
    "\n",
    "# write third row\n",
    "outputWriter.writerow(['b', 'Binary', 'Treats the file as binary data')]"
   ]
  },
  {
   "cell_type": "markdown",
   "id": "d8b28ffd",
   "metadata": {},
   "source": [
    "76. After we have finished writing new rows of data, we can close the file."
   ]
  },
  {
   "cell_type": "raw",
   "id": "d8a4adf6",
   "metadata": {},
   "source": [
    "f.close()"
   ]
  },
  {
   "cell_type": "markdown",
   "id": "585800c8",
   "metadata": {},
   "source": [
    "77. Putting that all together:"
   ]
  },
  {
   "cell_type": "code",
   "execution_count": null,
   "id": "30269466",
   "metadata": {},
   "outputs": [],
   "source": [
    " # create new CSV file with write privileges\n",
    " f = open(\"new_file.csv\", \"w\")\n",
    " \n",
    " # create writer object\n",
    "outputWriter = csv.writer(f)\n",
    "\n",
    "# write first row\n",
    "outputWriter.writerow(['Parameter', 'Name', 'Description')]\n",
    "\n",
    "# write second row\n",
    "outputWriter.writerow(['t', 'Text', 'Treats file as text data; also the default value'])\n",
    "\n",
    "# write third row\n",
    "outputWriter.writerow(['b', 'Binary', 'Treats the file as binary data')]\n",
    "\n",
    "# close file\n",
    "f.close()"
   ]
  },
  {
   "cell_type": "markdown",
   "id": "8c3a569f",
   "metadata": {},
   "source": [
    "78. Check out `new_file.csv` to see the newly-created file with rows of data.\n",
    "\n",
    "#### `.writerow()`, loops, and `BeautifulSoup`\n",
    "\n",
    "79. The next lab notebook question (Q3) asks you to write a Python program that scrapes data from a webpage and saves it to a plain-text file.\n",
    "\n",
    "80. Depending on the website you choose and the type of data you are working with, you may end up in a situation where you need to find multiple instances of an HTML tag on a web page and write each of those instances to a row in your newly-created CSV file.\n",
    "\n",
    "81. If only there was a way we could iterate through each instance of a specific HTML tag and run `.writerow()` on the contents of that tag....\n",
    "\n",
    "82. Enter `for` loops! \n",
    "\n",
    "83. We can use a `for` loop in combination with `.writerow()` to iterate through a list of items or objects, do *something* with each object, and write that output to a CSV file.\n",
    "\n",
    "84. This workflow becomes especially helpful when working with `BeautifulSoup`.\n",
    "\n",
    "85. For example, say you have a webpage with a list of links, and you want to extract the URLs and text for each link as a new row in a CSV file.\n",
    "\n",
    "86. First, we can use the `.find_all()` method within `BeautifulSoup` to have Python find all instances of a specific element or tag."
   ]
  },
  {
   "cell_type": "code",
   "execution_count": null,
   "id": "eca8b541",
   "metadata": {},
   "outputs": [],
   "source": [
    "# import requests\n",
    "import requests\n",
    "\n",
    "# import beautifulsoup\n",
    "from bs4 import BeautifulSoup\n",
    "\n",
    "# load url using get requests.get() method\n",
    "page = requests.get('URL GOES HERE')\n",
    "\n",
    "# create beautiful soup object\n",
    "soup = BeautifulSoup(page.text, 'html.parser')\n",
    "\n",
    "# create new CSV file with write access\n",
    "f = csv.writer(open('new_file.csv', 'w'))\n",
    "\n",
    "# write header row or first row for CSV file\n",
    "f.writerow(['Link_Text', 'URL'])\n",
    "\n",
    "# find all instances of the a tag (a href) and assign those instances to a list called \"links\"\n",
    "links = soup.find_all('a')"
   ]
  },
  {
   "cell_type": "markdown",
   "id": "8f7754db",
   "metadata": {},
   "source": [
    "87. Then, we can use a `for` loop to instruct Python to perform specific `BeautifulSoup` operations on each item in our list, and write that output as a row in the CSV file.\n"
   ]
  },
  {
   "cell_type": "raw",
   "id": "a0d78a31",
   "metadata": {},
   "source": [
    "for link in links:\n",
    " SOMETHING WILL HAPPEN HERE"
   ]
  },
  {
   "cell_type": "markdown",
   "id": "ba24cc34",
   "metadata": {},
   "source": [
    "88. To get the text for each link:"
   ]
  },
  {
   "cell_type": "raw",
   "id": "5d5f1459",
   "metadata": {},
   "source": [
    "names = link.contents"
   ]
  },
  {
   "cell_type": "markdown",
   "id": "d5cd913e",
   "metadata": {},
   "source": [
    "89. To get the URL for each link:"
   ]
  },
  {
   "cell_type": "raw",
   "id": "51637276",
   "metadata": {},
   "source": [
    "fullLink = link.get('href')"
   ]
  },
  {
   "cell_type": "markdown",
   "id": "de98e1c8",
   "metadata": {},
   "source": [
    "90. And write both values as a row in our CSV file:"
   ]
  },
  {
   "cell_type": "raw",
   "id": "5a004863",
   "metadata": {},
   "source": [
    "f.writerow([names, fullLink])"
   ]
  },
  {
   "cell_type": "markdown",
   "id": "e150affb",
   "metadata": {},
   "source": [
    "91. And we can put all of those steps together in a `for` loop:"
   ]
  },
  {
   "cell_type": "code",
   "execution_count": null,
   "id": "ddb36db9",
   "metadata": {},
   "outputs": [],
   "source": [
    "for link in links:\n",
    " names = link.contents[0]\n",
    " fullLink = link.get('href')\n",
    " f.writerow([names, fullLink])"
   ]
  },
  {
   "cell_type": "markdown",
   "id": "e6cbbdb4",
   "metadata": {},
   "source": [
    "92. That whole combined program:"
   ]
  },
  {
   "cell_type": "code",
   "execution_count": null,
   "id": "b9ac15a4",
   "metadata": {},
   "outputs": [],
   "source": [
    "# import requests\n",
    "import requests\n",
    "\n",
    "# import beautifulsoup\n",
    "from bs4 import BeautifulSoup\n",
    "\n",
    "# load url using get requests.get() method\n",
    "page = requests.get('URL GOES HERE')\n",
    "\n",
    "# create beautiful soup object\n",
    "soup = BeautifulSoup(page.text, 'html.parser')\n",
    "\n",
    "# create new CSV file with write access\n",
    "f = csv.writer(open('new_file.csv', 'w'))\n",
    "\n",
    "# write header row or first row for CSV file\n",
    "f.writerow(['Link_Text', 'URL'])\n",
    "\n",
    "# find all instances of the a tag (a href) and assign those instances to a list called \"links\"\n",
    "links = soup.find_all('a')\n",
    "\n",
    "# for loop that extracts link text and url and writes to CSV file\n",
    "for link in links:\n",
    " names = link.contents[0]\n",
    " fullLink = link.get('href')\n",
    " f.writerow([names, fullLink])\n",
    "\n",
    "# close file \n",
    "f.close()"
   ]
  },
  {
   "cell_type": "markdown",
   "id": "8f77ffe2",
   "metadata": {},
   "source": [
    "93. How exactly you combine `BeautifulSoup` and `CSV` module functions with a `for` loop depends on what you are wanting to scrape from a web page as well as the desired output or structure for the file you are creating."
   ]
  },
  {
   "cell_type": "markdown",
   "id": "89777dd3",
   "metadata": {},
   "source": [
    "# Additional Lab Notebook Questions\n",
    "\n",
    "Q3: Select a web page of your choosing and write a Python program that downloads select content from that web page as a CSV or TXT file. That content could be paragraphs of text, tables of data, etc. Include code + comments.\n",
    "\n",
    "Some websites that can get you started (although you are not restricted to these resources).\n",
    "\n",
    "Websites for unstructured text:\n",
    "- [Wikisource](https://en.wikisource.org/wiki/Main_Page)\n",
    "- [Project Gutenberg](https://www.gutenberg.org/)\n",
    "- [HathiTrust Digital Library](https://www.hathitrust.org/) \n",
    "  * Click the `Login` button in the top-right hand corner and select the University of Notre Dame to log in with your Notre Dame credentials.\n",
    "\n",
    "Websites for structured data:\n",
    "- [Wikipedia](https://en.wikipedia.org/wiki/Main_Page)\n",
    "  * Some pages (especially for athletic teams or competitions) will have tables of data. For example, check out this Wikipedia page on the [Summer Olympic Games](https://en.wikipedia.org/wiki/All-time_Olympic_Games_medal_table).\n",
    "- Other Sport Data Sources\n",
    "  * [KenPom ratings](https://kenpom.com/)\n",
    "  * [Her Hoop Stats](https://herhoopstats.com/)\n",
    "  * [Hockey DB](https://www.hockeydb.com/)\n",
    "  \n",
    "Q4: Reflect on your experience tackling Q3 (and this lab more generally):\n",
    "- What are some of your main takeaways from this lab?\n",
    "- How you think the concepts/skills covered in this lab might be useful in other contexts or for future projects?\n",
    "- What challenges did you face for Q3? How did you approach and/or solve them?\n",
    "- Any other comments/observations\n",
    "\n",
    "This lab notebook can be submitted as a Jupyter Notebook (code + reflection) or a `.py` file with additional reflection text document.\n",
    "\n",
    "# Lab Notebook Questions\n",
    "\n",
    "[Link to lab notebook template](https://docs.google.com/document/d/1_bbenDLXoWf6N-ZPZrjTvWUcCjPCoCayxv1AyQDR2qU/copy) (Google Doc, ND users)\n",
    "\n",
    "Q1: Include code + comments that document your experience working through the Digital Ocean tutorial.\n",
    "\n",
    "Q2: Reflect on your experience working through the Digital Ocean tutorial. What challenges did you face? How did you approach or solve them? How was this experience different than previous labs?\n",
    "\n",
    "Q3: Select a web page of your choosing and write a Python program that downloads select content from that web page as a CSV or TXT file. That content could be paragraphs of text, tables of data, etc. Include code + comments.\n",
    "\n",
    "Some websites that can get you started (although you are not restricted to these resources).\n",
    "\n",
    "Websites for unstructured text:\n",
    "- [Wikisource](https://en.wikisource.org/wiki/Main_Page)\n",
    "- [Project Gutenberg](https://www.gutenberg.org/)\n",
    "- [HathiTrust Digital Library](https://www.hathitrust.org/) \n",
    "  * Click the `Login` button in the top-right hand corner and select the University of Notre Dame to log in with your Notre Dame credentials.\n",
    "\n",
    "Websites for structured data:\n",
    "- [Wikipedia](https://en.wikipedia.org/wiki/Main_Page)\n",
    "  * Some pages (especially for athletic teams or competitions) will have tables of data. For example, check out this Wikipedia page on the [Summer Olympic Games](https://en.wikipedia.org/wiki/All-time_Olympic_Games_medal_table).\n",
    "- Other Sport Data Sources\n",
    "  * [KenPom ratings](https://kenpom.com/)\n",
    "  * [Her Hoop Stats](https://herhoopstats.com/)\n",
    "  * [Hockey DB](https://www.hockeydb.com/)\n",
    "\n",
    "Q4: Reflect on your experience tackling Q3 (and this lab more generally):\n",
    "- What are some of your main takeaways from this lab?\n",
    "- How you think the concepts/skills covered in this lab might be useful in other contexts or for future projects?\n",
    "- What challenges did you face for Q3? How did you approach and/or solve them?\n",
    "- Any other comments/observations\n",
    "\n",
    "This lab notebook can be submitted as a Jupyter Notebook (code + reflection) or a `.py` file with additional reflection text document"
   ]
  }
 ],
 "metadata": {
  "kernelspec": {
   "display_name": "Python 3",
   "language": "python",
   "name": "python3"
  },
  "language_info": {
   "codemirror_mode": {
    "name": "ipython",
    "version": 3
   },
   "file_extension": ".py",
   "mimetype": "text/x-python",
   "name": "python",
   "nbconvert_exporter": "python",
   "pygments_lexer": "ipython3",
   "version": "3.8.8"
  }
 },
 "nbformat": 4,
 "nbformat_minor": 5
}
