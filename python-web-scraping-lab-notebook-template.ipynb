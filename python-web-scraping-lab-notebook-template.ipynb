{
 "cells": [
  {
   "cell_type": "markdown",
   "metadata": {},
   "source": [
    "# Elements of Computing I\n",
    "\n",
    "Student Name: **Enter Your Name Here (Double click to edit)**\n",
    "<br>\n",
    "Net ID: **Enter Your NetID Here (Double click to edit)**\n",
    "<br>\n",
    "Title: **Scraping Web Data**"
   ]
  },
  {
   "cell_type": "markdown",
   "metadata": {},
   "source": [
    "**Q1: Include code + comments that document your experience working through the Digital Ocean tutorial.**"
   ]
  },
  {
   "cell_type": "markdown",
   "metadata": {},
   "source": [
    "**AnswerQ1**: Your answer here (double click to edit)"
   ]
  },
  {
   "cell_type": "code",
   "execution_count": 1,
   "metadata": {},
   "outputs": [],
   "source": [
    "# your codes here (if needed)"
   ]
  },
  {
   "cell_type": "markdown",
   "metadata": {},
   "source": [
    "**Q2: Reflect on your experience working through the Digital Ocean tutorial. What challenges did you face? How did you approach or solve them? How was this experience different than previous labs?**"
   ]
  },
  {
   "cell_type": "markdown",
   "metadata": {},
   "source": [
    "**AnswerQ2**: Your answer here (double click to edit)"
   ]
  },
  {
   "cell_type": "code",
   "execution_count": 2,
   "metadata": {},
   "outputs": [],
   "source": [
    "# your codes here (if needed)"
   ]
  },
  {
   "cell_type": "markdown",
   "metadata": {},
   "source": [
    "<strong>Q3: Select a web page of your choosing and write a Python program that downloads select content from that web page as a CSV or TXT file. That content could be paragraphs of text, tables of data, etc. Include code + comments.\n",
    "\n",
    "Some websites that can get you started (although you are not restricted to these resources).\n",
    "\n",
    "Websites for unstructured text:\n",
    "- [Wikisource](https://en.wikisource.org/wiki/Main_Page)\n",
    "- [Project Gutenberg](https://www.gutenberg.org/)\n",
    "- [HathiTrust Digital Library](https://www.hathitrust.org/) \n",
    "  * Click the `Login` button in the top-right hand corner and select the University of Notre Dame to log in with your Notre Dame credentials.\n",
    "\n",
    "Websites for structured data:\n",
    "- [Wikipedia](https://en.wikipedia.org/wiki/Main_Page)\n",
    "  * Some pages (especially for athletic teams or competitions) will have tables of data. For example, check out this Wikipedia page on the [Summer Olympic Games](https://en.wikipedia.org/wiki/All-time_Olympic_Games_medal_table).\n",
    "- Other Sport Data Sources\n",
    "  * [KenPom ratings](https://kenpom.com/)\n",
    "  * [Her Hoop Stats](https://herhoopstats.com/)\n",
    "  * [Hockey DB](https://www.hockeydb.com/)\n",
    "</strong>"
   ]
  },
  {
   "cell_type": "markdown",
   "metadata": {},
   "source": [
    "**AnswerQ3:** Your answer here (double click to edit)"
   ]
  },
  {
   "cell_type": "code",
   "execution_count": 3,
   "metadata": {},
   "outputs": [],
   "source": [
    "# your codes here (if needed)"
   ]
  },
  {
   "cell_type": "markdown",
   "metadata": {},
   "source": [
    "<strong>\n",
    "Q4: Reflect on your experience tackling Q3 (and this lab more generally):\n",
    "<ul>\n",
    "    <li>What are some of your main takeaways from this lab?</li>\n",
    "    <li>How you think the concepts/skills covered in this lab might be useful in other contexts or for future projects?</li>\n",
    "    <li>What challenges did you face for Q3? How did you approach and/or solve them?</li>\n",
    "    <li>Any other comments/observations</li>\n",
    "</strong>"
   ]
  },
  {
   "cell_type": "markdown",
   "metadata": {},
   "source": [
    "**AnswerQ4:** Your answer here (double click to edit)"
   ]
  },
  {
   "cell_type": "code",
   "execution_count": 4,
   "metadata": {},
   "outputs": [],
   "source": [
    "# your codes here (if needed)"
   ]
  }
 ],
 "metadata": {
  "kernelspec": {
   "display_name": "Python 3",
   "language": "python",
   "name": "python3"
  },
  "language_info": {
   "codemirror_mode": {
    "name": "ipython",
    "version": 3
   },
   "file_extension": ".py",
   "mimetype": "text/x-python",
   "name": "python",
   "nbconvert_exporter": "python",
   "pygments_lexer": "ipython3",
   "version": "3.8.8"
  }
 },
 "nbformat": 4,
 "nbformat_minor": 4
}
